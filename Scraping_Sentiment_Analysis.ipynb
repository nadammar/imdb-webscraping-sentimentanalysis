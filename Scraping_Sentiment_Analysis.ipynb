{
  "cells": [
    {
      "cell_type": "markdown",
      "id": "3d20f292-a936-4dd1-953a-e2e0445e6ef1",
      "metadata": {
        "id": "3d20f292-a936-4dd1-953a-e2e0445e6ef1"
      },
      "source": [
        "## Import and download necessary Libraries"
      ]
    },
    {
      "cell_type": "code",
      "execution_count": null,
      "id": "1428147f-a2a0-42ec-842c-e6b0143e1ff8",
      "metadata": {
        "id": "1428147f-a2a0-42ec-842c-e6b0143e1ff8"
      },
      "outputs": [],
      "source": [
        "from bs4 import BeautifulSoup\n",
        "import requests\n",
        "from warnings import warn\n",
        "from time import sleep\n",
        "import re\n",
        "from random import randint\n",
        "import numpy as np\n",
        "import pandas as pd\n",
        "import seaborn as sns\n",
        "from wordcloud import WordCloud\n",
        "import matplotlib.pyplot as plt"
      ]
    },
    {
      "cell_type": "code",
      "execution_count": null,
      "id": "f2ac8e55-b2ec-49a6-8770-e4162a5cafc8",
      "metadata": {
        "id": "f2ac8e55-b2ec-49a6-8770-e4162a5cafc8"
      },
      "outputs": [],
      "source": [
        "from textblob import TextBlob"
      ]
    },
    {
      "cell_type": "markdown",
      "id": "06bea627-a9df-4816-a573-3650096f9608",
      "metadata": {
        "id": "06bea627-a9df-4816-a573-3650096f9608"
      },
      "source": [
        "## SCRAP MOVIES'INFORMATION"
      ]
    },
    {
      "cell_type": "code",
      "execution_count": null,
      "id": "ba2247b3-022d-4002-9eb3-5a0c87e6c954",
      "metadata": {
        "id": "ba2247b3-022d-4002-9eb3-5a0c87e6c954",
        "outputId": "f08f3ae7-8028-4da8-db42-25135f37239e"
      },
      "outputs": [
        {
          "data": {
            "text/plain": [
              "'https://www.imdb.com/search/title/?&genres=sci_fi&explore=title_type,genres'"
            ]
          },
          "execution_count": 89,
          "metadata": {},
          "output_type": "execute_result"
        }
      ],
      "source": [
        "url=\"https://www.imdb.com/search/title/?&genres=sci_fi&explore=title_type,genres\"\n",
        "r = requests.get(url)\n",
        "r.url"
      ]
    },
    {
      "cell_type": "code",
      "execution_count": null,
      "id": "930d54ae-a751-48ba-ba31-5f2fdc06ade1",
      "metadata": {
        "tags": [],
        "id": "930d54ae-a751-48ba-ba31-5f2fdc06ade1",
        "outputId": "c197dd0b-4f50-4651-e68b-49cb81ac630d"
      },
      "outputs": [
        {
          "data": {
            "text/plain": [
              "<bound method Response.json of <Response [200]>>"
            ]
          },
          "execution_count": 90,
          "metadata": {},
          "output_type": "execute_result"
        }
      ],
      "source": [
        "r.json"
      ]
    },
    {
      "cell_type": "code",
      "execution_count": null,
      "id": "37469988-75b6-4e12-8e67-1c87f094f29d",
      "metadata": {
        "id": "37469988-75b6-4e12-8e67-1c87f094f29d"
      },
      "outputs": [],
      "source": [
        "content = BeautifulSoup(r.text, 'html.parser')\n"
      ]
    },
    {
      "cell_type": "code",
      "execution_count": null,
      "id": "618a482a-8bce-49e4-91d6-c4beacf75a89",
      "metadata": {
        "tags": [],
        "id": "618a482a-8bce-49e4-91d6-c4beacf75a89"
      },
      "outputs": [],
      "source": [
        "movies = []\n",
        "years = []\n",
        "genre = []\n",
        "runtime_min = []\n",
        "imdb_ratings = []\n",
        "metascores = []\n",
        "rating=[]\n",
        "link=[]\n",
        "review=[]"
      ]
    },
    {
      "cell_type": "code",
      "execution_count": null,
      "id": "a3d6b084-0550-4ff2-8a12-0374b3fae353",
      "metadata": {
        "id": "a3d6b084-0550-4ff2-8a12-0374b3fae353"
      },
      "outputs": [],
      "source": [
        "movie_containers = content.find_all('div', class_ = 'lister-item mode-advanced')"
      ]
    },
    {
      "cell_type": "code",
      "execution_count": null,
      "id": "8825b8f9-8a66-4e43-b0cd-6c2c8ceb9905",
      "metadata": {
        "id": "8825b8f9-8a66-4e43-b0cd-6c2c8ceb9905"
      },
      "outputs": [],
      "source": [
        "for container in movie_containers:\n",
        "\n",
        "       #conditional for all with metascore\n",
        "       if container.find('div', class_ = 'ratings-metascore') is not None:\n",
        "\n",
        "           #title\n",
        "           title = container.h3.a.text\n",
        "           movies.append(title)\n",
        "\n",
        "           genre.append(container.find(\"span\", class_=\"genre\").text.rstrip().replace(\"\\n\",\"\").split(\",\"))\n",
        "\n",
        "           if container.h3.find('span', class_= 'lister-item-year text-muted unbold') is not None:\n",
        "\n",
        "             #year released\n",
        "             year = container.h3.find('span', class_= 'lister-item-year text-muted unbold').text.replace(\"(\",\"\").replace(\")\",\"\").replace(\"I\",\"\") # remove the parentheses around the year and make it an integer\n",
        "             years.append(year)\n",
        "\n",
        "           else:\n",
        "             years.append(None) # each of the additional if clauses are to handle type None data, replacing it with an empty string so the arrays are of the same length at the end of the scraping\n",
        "\n",
        "           if container.p.find('span', class_ = 'runtime') is not None:\n",
        "\n",
        "             #runtime\n",
        "             t = int(container.p.find('span', class_ = 'runtime').text.replace(\" min\", \"\")) # remove the minute word from the runtime and make it an integer\n",
        "             runtime_min.append(t)\n",
        "\n",
        "           else:\n",
        "             runtime_min.append(None)\n",
        "\n",
        "           if float(container.strong.text) is not None:\n",
        "\n",
        "             #IMDB ratings\n",
        "             imdb = float(container.strong.text) # non-standardized variable\n",
        "             imdb_ratings.append(imdb)\n",
        "\n",
        "           else:\n",
        "             imdb_ratings.append(None)\n",
        "\n",
        "           if container.find('span', class_ = 'metascore').text is not None:\n",
        "\n",
        "             #Metascore\n",
        "             m_score = int(container.find('span', class_ = 'metascore').text) # make it an integer\n",
        "             metascores.append(m_score)\n",
        "\n",
        "           else:\n",
        "             metascores.append(None)\n",
        "\n",
        "           if container.p.find('span', class_ = 'certificate') is not None:\n",
        "\n",
        "             #rating\n",
        "             ratings = container.p.find('span', class_= 'certificate').text\n",
        "             rating.append(ratings)\n",
        "\n",
        "           else:\n",
        "             rating.append(\"\")\n",
        "\n",
        "\n",
        "           #links\n",
        "           if container.find('h3',class_=\"lister-item-header\" ) is not None :\n",
        "              links=container.find_all('h3',class_=\"lister-item-header\" )\n",
        "              for tag in links:\n",
        "                  l='https://www.imdb.com/' + tag.find('a')['href']\n",
        "                  link.append(l)\n",
        "\n",
        "\n",
        ""
      ]
    },
    {
      "cell_type": "code",
      "execution_count": null,
      "id": "c2172f0f-7f64-4c56-8d16-f49f3de7f194",
      "metadata": {
        "id": "c2172f0f-7f64-4c56-8d16-f49f3de7f194"
      },
      "outputs": [],
      "source": [
        "sci_fi_df = pd.DataFrame({'movie': movies,\n",
        "                      'year': years,\n",
        "                       'rating': rating ,\n",
        "                        'genre': genre ,\n",
        "                      'runtime_min': runtime_min,\n",
        "                      'imdb': imdb_ratings,\n",
        "                      'metascore': metascores,\n",
        "                      'movie_link':link}\n",
        "                      )"
      ]
    },
    {
      "cell_type": "code",
      "execution_count": null,
      "id": "11024d0d-8e0f-421f-b788-e291028963b2",
      "metadata": {
        "id": "11024d0d-8e0f-421f-b788-e291028963b2",
        "outputId": "bb0642c6-09e2-44df-fc02-b968cc82f4e7"
      },
      "outputs": [
        {
          "data": {
            "text/html": [
              "<div>\n",
              "<style scoped>\n",
              "    .dataframe tbody tr th:only-of-type {\n",
              "        vertical-align: middle;\n",
              "    }\n",
              "\n",
              "    .dataframe tbody tr th {\n",
              "        vertical-align: top;\n",
              "    }\n",
              "\n",
              "    .dataframe thead th {\n",
              "        text-align: right;\n",
              "    }\n",
              "</style>\n",
              "<table border=\"1\" class=\"dataframe\">\n",
              "  <thead>\n",
              "    <tr style=\"text-align: right;\">\n",
              "      <th></th>\n",
              "      <th>movie</th>\n",
              "      <th>year</th>\n",
              "      <th>rating</th>\n",
              "      <th>genre</th>\n",
              "      <th>runtime_min</th>\n",
              "      <th>imdb</th>\n",
              "      <th>metascore</th>\n",
              "      <th>movie_link</th>\n",
              "    </tr>\n",
              "  </thead>\n",
              "  <tbody>\n",
              "    <tr>\n",
              "      <th>0</th>\n",
              "      <td>Black Panther: Wakanda Forever</td>\n",
              "      <td>2022</td>\n",
              "      <td>PG-13</td>\n",
              "      <td>[Action,  Adventure,  Drama]</td>\n",
              "      <td>161</td>\n",
              "      <td>7.3</td>\n",
              "      <td>67</td>\n",
              "      <td>https://www.imdb.com//title/tt9114286/</td>\n",
              "    </tr>\n",
              "    <tr>\n",
              "      <th>1</th>\n",
              "      <td>Black Adam</td>\n",
              "      <td>2022</td>\n",
              "      <td>PG-13</td>\n",
              "      <td>[Action,  Adventure,  Fantasy]</td>\n",
              "      <td>125</td>\n",
              "      <td>6.9</td>\n",
              "      <td>41</td>\n",
              "      <td>https://www.imdb.com//title/tt6443346/</td>\n",
              "    </tr>\n",
              "    <tr>\n",
              "      <th>2</th>\n",
              "      <td>Black Panther</td>\n",
              "      <td>2018</td>\n",
              "      <td>PG-13</td>\n",
              "      <td>[Action,  Adventure,  Sci-Fi]</td>\n",
              "      <td>134</td>\n",
              "      <td>7.3</td>\n",
              "      <td>88</td>\n",
              "      <td>https://www.imdb.com//title/tt1825683/</td>\n",
              "    </tr>\n",
              "    <tr>\n",
              "      <th>3</th>\n",
              "      <td>Everything Everywhere All at Once</td>\n",
              "      <td>2022</td>\n",
              "      <td>R</td>\n",
              "      <td>[Action,  Adventure,  Comedy]</td>\n",
              "      <td>139</td>\n",
              "      <td>8.1</td>\n",
              "      <td>81</td>\n",
              "      <td>https://www.imdb.com//title/tt6710474/</td>\n",
              "    </tr>\n",
              "    <tr>\n",
              "      <th>4</th>\n",
              "      <td>Nope</td>\n",
              "      <td>2022</td>\n",
              "      <td>R</td>\n",
              "      <td>[Horror,  Mystery,  Sci-Fi]</td>\n",
              "      <td>130</td>\n",
              "      <td>6.9</td>\n",
              "      <td>77</td>\n",
              "      <td>https://www.imdb.com//title/tt10954984/</td>\n",
              "    </tr>\n",
              "    <tr>\n",
              "      <th>5</th>\n",
              "      <td>Thor: Love and Thunder</td>\n",
              "      <td>2022</td>\n",
              "      <td>PG-13</td>\n",
              "      <td>[Action,  Adventure,  Comedy]</td>\n",
              "      <td>118</td>\n",
              "      <td>6.3</td>\n",
              "      <td>57</td>\n",
              "      <td>https://www.imdb.com//title/tt10648342/</td>\n",
              "    </tr>\n",
              "    <tr>\n",
              "      <th>6</th>\n",
              "      <td>Avatar</td>\n",
              "      <td>2009</td>\n",
              "      <td>PG-13</td>\n",
              "      <td>[Action,  Adventure,  Fantasy]</td>\n",
              "      <td>162</td>\n",
              "      <td>7.8</td>\n",
              "      <td>83</td>\n",
              "      <td>https://www.imdb.com//title/tt0499549/</td>\n",
              "    </tr>\n",
              "    <tr>\n",
              "      <th>7</th>\n",
              "      <td>Morbius</td>\n",
              "      <td>2022</td>\n",
              "      <td>PG-13</td>\n",
              "      <td>[Action,  Adventure,  Horror]</td>\n",
              "      <td>104</td>\n",
              "      <td>5.2</td>\n",
              "      <td>35</td>\n",
              "      <td>https://www.imdb.com//title/tt5108870/</td>\n",
              "    </tr>\n",
              "    <tr>\n",
              "      <th>8</th>\n",
              "      <td>Interstellar</td>\n",
              "      <td>2014</td>\n",
              "      <td>PG-13</td>\n",
              "      <td>[Adventure,  Drama,  Sci-Fi]</td>\n",
              "      <td>169</td>\n",
              "      <td>8.6</td>\n",
              "      <td>74</td>\n",
              "      <td>https://www.imdb.com//title/tt0816692/</td>\n",
              "    </tr>\n",
              "    <tr>\n",
              "      <th>9</th>\n",
              "      <td>Oblivion</td>\n",
              "      <td>2013</td>\n",
              "      <td>PG-13</td>\n",
              "      <td>[Action,  Adventure,  Sci-Fi]</td>\n",
              "      <td>124</td>\n",
              "      <td>7.0</td>\n",
              "      <td>54</td>\n",
              "      <td>https://www.imdb.com//title/tt1483013/</td>\n",
              "    </tr>\n",
              "    <tr>\n",
              "      <th>10</th>\n",
              "      <td>Spider-Man: No Way Home</td>\n",
              "      <td>2021</td>\n",
              "      <td>PG-13</td>\n",
              "      <td>[Action,  Adventure,  Fantasy]</td>\n",
              "      <td>148</td>\n",
              "      <td>8.3</td>\n",
              "      <td>71</td>\n",
              "      <td>https://www.imdb.com//title/tt10872600/</td>\n",
              "    </tr>\n",
              "    <tr>\n",
              "      <th>11</th>\n",
              "      <td>Crimes of the Future</td>\n",
              "      <td>2022</td>\n",
              "      <td>R</td>\n",
              "      <td>[Drama,  Horror,  Sci-Fi]</td>\n",
              "      <td>107</td>\n",
              "      <td>5.9</td>\n",
              "      <td>67</td>\n",
              "      <td>https://www.imdb.com//title/tt14549466/</td>\n",
              "    </tr>\n",
              "    <tr>\n",
              "      <th>12</th>\n",
              "      <td>Rogue One</td>\n",
              "      <td>2016</td>\n",
              "      <td>PG-13</td>\n",
              "      <td>[Action,  Adventure,  Sci-Fi]</td>\n",
              "      <td>133</td>\n",
              "      <td>7.8</td>\n",
              "      <td>65</td>\n",
              "      <td>https://www.imdb.com//title/tt3748528/</td>\n",
              "    </tr>\n",
              "    <tr>\n",
              "      <th>13</th>\n",
              "      <td>Dune: Part One</td>\n",
              "      <td>2021</td>\n",
              "      <td>PG-13</td>\n",
              "      <td>[Action,  Adventure,  Drama]</td>\n",
              "      <td>155</td>\n",
              "      <td>8.0</td>\n",
              "      <td>74</td>\n",
              "      <td>https://www.imdb.com//title/tt1160419/</td>\n",
              "    </tr>\n",
              "    <tr>\n",
              "      <th>14</th>\n",
              "      <td>Jurassic World: Dominion</td>\n",
              "      <td>2022</td>\n",
              "      <td>PG-13</td>\n",
              "      <td>[Action,  Adventure,  Sci-Fi]</td>\n",
              "      <td>147</td>\n",
              "      <td>5.7</td>\n",
              "      <td>38</td>\n",
              "      <td>https://www.imdb.com//title/tt8041270/</td>\n",
              "    </tr>\n",
              "    <tr>\n",
              "      <th>15</th>\n",
              "      <td>V for Vendetta</td>\n",
              "      <td>2005</td>\n",
              "      <td>R</td>\n",
              "      <td>[Action,  Drama,  Sci-Fi]</td>\n",
              "      <td>132</td>\n",
              "      <td>8.2</td>\n",
              "      <td>62</td>\n",
              "      <td>https://www.imdb.com//title/tt0434409/</td>\n",
              "    </tr>\n",
              "    <tr>\n",
              "      <th>16</th>\n",
              "      <td>Avengers: Endgame</td>\n",
              "      <td>2019</td>\n",
              "      <td>PG-13</td>\n",
              "      <td>[Action,  Adventure,  Drama]</td>\n",
              "      <td>181</td>\n",
              "      <td>8.4</td>\n",
              "      <td>78</td>\n",
              "      <td>https://www.imdb.com//title/tt4154796/</td>\n",
              "    </tr>\n",
              "    <tr>\n",
              "      <th>17</th>\n",
              "      <td>Prey</td>\n",
              "      <td>2022</td>\n",
              "      <td>R</td>\n",
              "      <td>[Action,  Adventure,  Drama]</td>\n",
              "      <td>99</td>\n",
              "      <td>7.2</td>\n",
              "      <td>71</td>\n",
              "      <td>https://www.imdb.com//title/tt11866324/</td>\n",
              "    </tr>\n",
              "    <tr>\n",
              "      <th>18</th>\n",
              "      <td>Back to the Future</td>\n",
              "      <td>1985</td>\n",
              "      <td></td>\n",
              "      <td>[Adventure,  Comedy,  Sci-Fi]</td>\n",
              "      <td>116</td>\n",
              "      <td>8.5</td>\n",
              "      <td>87</td>\n",
              "      <td>https://www.imdb.com//title/tt0088763/</td>\n",
              "    </tr>\n",
              "  </tbody>\n",
              "</table>\n",
              "</div>"
            ],
            "text/plain": [
              "                                movie   year rating  \\\n",
              "0      Black Panther: Wakanda Forever   2022  PG-13   \n",
              "1                          Black Adam   2022  PG-13   \n",
              "2                       Black Panther   2018  PG-13   \n",
              "3   Everything Everywhere All at Once   2022      R   \n",
              "4                                Nope   2022      R   \n",
              "5              Thor: Love and Thunder   2022  PG-13   \n",
              "6                              Avatar   2009  PG-13   \n",
              "7                             Morbius   2022  PG-13   \n",
              "8                        Interstellar   2014  PG-13   \n",
              "9                            Oblivion   2013  PG-13   \n",
              "10            Spider-Man: No Way Home   2021  PG-13   \n",
              "11               Crimes of the Future   2022      R   \n",
              "12                          Rogue One   2016  PG-13   \n",
              "13                     Dune: Part One   2021  PG-13   \n",
              "14           Jurassic World: Dominion   2022  PG-13   \n",
              "15                     V for Vendetta   2005      R   \n",
              "16                  Avengers: Endgame   2019  PG-13   \n",
              "17                               Prey   2022      R   \n",
              "18                 Back to the Future   1985          \n",
              "\n",
              "                             genre  runtime_min  imdb  metascore  \\\n",
              "0     [Action,  Adventure,  Drama]          161   7.3         67   \n",
              "1   [Action,  Adventure,  Fantasy]          125   6.9         41   \n",
              "2    [Action,  Adventure,  Sci-Fi]          134   7.3         88   \n",
              "3    [Action,  Adventure,  Comedy]          139   8.1         81   \n",
              "4      [Horror,  Mystery,  Sci-Fi]          130   6.9         77   \n",
              "5    [Action,  Adventure,  Comedy]          118   6.3         57   \n",
              "6   [Action,  Adventure,  Fantasy]          162   7.8         83   \n",
              "7    [Action,  Adventure,  Horror]          104   5.2         35   \n",
              "8     [Adventure,  Drama,  Sci-Fi]          169   8.6         74   \n",
              "9    [Action,  Adventure,  Sci-Fi]          124   7.0         54   \n",
              "10  [Action,  Adventure,  Fantasy]          148   8.3         71   \n",
              "11       [Drama,  Horror,  Sci-Fi]          107   5.9         67   \n",
              "12   [Action,  Adventure,  Sci-Fi]          133   7.8         65   \n",
              "13    [Action,  Adventure,  Drama]          155   8.0         74   \n",
              "14   [Action,  Adventure,  Sci-Fi]          147   5.7         38   \n",
              "15       [Action,  Drama,  Sci-Fi]          132   8.2         62   \n",
              "16    [Action,  Adventure,  Drama]          181   8.4         78   \n",
              "17    [Action,  Adventure,  Drama]           99   7.2         71   \n",
              "18   [Adventure,  Comedy,  Sci-Fi]          116   8.5         87   \n",
              "\n",
              "                                 movie_link  \n",
              "0    https://www.imdb.com//title/tt9114286/  \n",
              "1    https://www.imdb.com//title/tt6443346/  \n",
              "2    https://www.imdb.com//title/tt1825683/  \n",
              "3    https://www.imdb.com//title/tt6710474/  \n",
              "4   https://www.imdb.com//title/tt10954984/  \n",
              "5   https://www.imdb.com//title/tt10648342/  \n",
              "6    https://www.imdb.com//title/tt0499549/  \n",
              "7    https://www.imdb.com//title/tt5108870/  \n",
              "8    https://www.imdb.com//title/tt0816692/  \n",
              "9    https://www.imdb.com//title/tt1483013/  \n",
              "10  https://www.imdb.com//title/tt10872600/  \n",
              "11  https://www.imdb.com//title/tt14549466/  \n",
              "12   https://www.imdb.com//title/tt3748528/  \n",
              "13   https://www.imdb.com//title/tt1160419/  \n",
              "14   https://www.imdb.com//title/tt8041270/  \n",
              "15   https://www.imdb.com//title/tt0434409/  \n",
              "16   https://www.imdb.com//title/tt4154796/  \n",
              "17  https://www.imdb.com//title/tt11866324/  \n",
              "18   https://www.imdb.com//title/tt0088763/  "
            ]
          },
          "execution_count": 96,
          "metadata": {},
          "output_type": "execute_result"
        }
      ],
      "source": [
        "sci_fi_df"
      ]
    },
    {
      "cell_type": "code",
      "execution_count": null,
      "id": "7f721fd0-0cb6-41ce-9d42-7ef282b92771",
      "metadata": {
        "id": "7f721fd0-0cb6-41ce-9d42-7ef282b92771"
      },
      "outputs": [],
      "source": [
        "sci_fi_df.to_csv('IMDbRating.csv', index=False, encoding='utf-8')"
      ]
    },
    {
      "cell_type": "code",
      "execution_count": null,
      "id": "a3b6883f-0a52-4cc1-ad01-999dc30c3ed5",
      "metadata": {
        "id": "a3b6883f-0a52-4cc1-ad01-999dc30c3ed5",
        "outputId": "da5600cb-45f8-44f6-a6d4-44aeb43c5d10"
      },
      "outputs": [
        {
          "data": {
            "text/plain": [
              "movie           object\n",
              "year            object\n",
              "rating          object\n",
              "genre           object\n",
              "runtime_min      int64\n",
              "imdb           float64\n",
              "metascore        int64\n",
              "movie_link      object\n",
              "dtype: object"
            ]
          },
          "execution_count": 98,
          "metadata": {},
          "output_type": "execute_result"
        }
      ],
      "source": [
        "sci_fi_df.dtypes"
      ]
    },
    {
      "cell_type": "code",
      "execution_count": null,
      "id": "af6c4826-c1b2-4ed3-8673-367531f0beec",
      "metadata": {
        "id": "af6c4826-c1b2-4ed3-8673-367531f0beec"
      },
      "outputs": [],
      "source": [
        "sci_fi_df['year'] = pd.to_datetime(sci_fi_df['year'])"
      ]
    },
    {
      "cell_type": "code",
      "execution_count": null,
      "id": "c5f11998-230c-478e-b39a-290fa3c5f8c9",
      "metadata": {
        "id": "c5f11998-230c-478e-b39a-290fa3c5f8c9",
        "outputId": "b0773045-a0bb-4ff7-9e9e-b1b4e4e3db9b"
      },
      "outputs": [
        {
          "data": {
            "text/plain": [
              "movie                  object\n",
              "year           datetime64[ns]\n",
              "rating                 object\n",
              "genre                  object\n",
              "runtime_min             int64\n",
              "imdb                  float64\n",
              "metascore               int64\n",
              "movie_link             object\n",
              "dtype: object"
            ]
          },
          "execution_count": 100,
          "metadata": {},
          "output_type": "execute_result"
        }
      ],
      "source": [
        "sci_fi_df.dtypes"
      ]
    },
    {
      "cell_type": "code",
      "execution_count": null,
      "id": "17a7a5f8-532d-4b27-b6c7-249ba3e3b874",
      "metadata": {
        "tags": [],
        "id": "17a7a5f8-532d-4b27-b6c7-249ba3e3b874",
        "outputId": "ab74732d-b3be-4078-9dfc-792a5d1c4063"
      },
      "outputs": [
        {
          "data": {
            "text/plain": [
              "['https://www.imdb.com//title/tt9114286/',\n",
              " 'https://www.imdb.com//title/tt6443346/',\n",
              " 'https://www.imdb.com//title/tt1825683/',\n",
              " 'https://www.imdb.com//title/tt6710474/',\n",
              " 'https://www.imdb.com//title/tt10954984/',\n",
              " 'https://www.imdb.com//title/tt10648342/',\n",
              " 'https://www.imdb.com//title/tt0499549/',\n",
              " 'https://www.imdb.com//title/tt5108870/',\n",
              " 'https://www.imdb.com//title/tt0816692/',\n",
              " 'https://www.imdb.com//title/tt1483013/',\n",
              " 'https://www.imdb.com//title/tt10872600/',\n",
              " 'https://www.imdb.com//title/tt14549466/',\n",
              " 'https://www.imdb.com//title/tt3748528/',\n",
              " 'https://www.imdb.com//title/tt1160419/',\n",
              " 'https://www.imdb.com//title/tt8041270/',\n",
              " 'https://www.imdb.com//title/tt0434409/',\n",
              " 'https://www.imdb.com//title/tt4154796/',\n",
              " 'https://www.imdb.com//title/tt11866324/',\n",
              " 'https://www.imdb.com//title/tt0088763/']"
            ]
          },
          "execution_count": 101,
          "metadata": {},
          "output_type": "execute_result"
        }
      ],
      "source": [
        "link"
      ]
    },
    {
      "cell_type": "code",
      "execution_count": null,
      "id": "02fcdfdf-804e-464f-b2e1-e802dfc17ffc",
      "metadata": {
        "id": "02fcdfdf-804e-464f-b2e1-e802dfc17ffc",
        "outputId": "e744f4a3-9cad-461c-e644-149a359f1149"
      },
      "outputs": [
        {
          "name": "stderr",
          "output_type": "stream",
          "text": [
            "C:\\Users\\Chiraz\\anaconda3\\lib\\site-packages\\seaborn\\distributions.py:2619: FutureWarning: `distplot` is a deprecated function and will be removed in a future version. Please adapt your code to use either `displot` (a figure-level function with similar flexibility) or `histplot` (an axes-level function for histograms).\n",
            "  warnings.warn(msg, FutureWarning)\n"
          ]
        },
        {
          "data": {
            "image/png": "[encoded data removed]",
            "text/plain": [
              "<Figure size 900x500 with 1 Axes>"
            ]
          },
          "metadata": {},
          "output_type": "display_data"
        }
      ],
      "source": [
        "# Runtime histogram/density plot\n",
        "plt.figure(figsize=[9,5])\n",
        "run = sns.distplot(sci_fi_df['runtime_min'])\n",
        "plt.suptitle(\"Movie RunTime Distribution\", fontsize=20)\n",
        "plt.show()"
      ]
    },
    {
      "cell_type": "code",
      "execution_count": null,
      "id": "103c49f6-e456-497e-85a6-1ca480bfd18c",
      "metadata": {
        "id": "103c49f6-e456-497e-85a6-1ca480bfd18c",
        "outputId": "9fbfda58-ffbc-40c7-f5d0-d4e59cd58be9"
      },
      "outputs": [
        {
          "data": {
            "text/plain": [
              "<AxesSubplot:>"
            ]
          },
          "execution_count": 103,
          "metadata": {},
          "output_type": "execute_result"
        },
        {
          "data": {
            "image/png": "[encoded data removed]",
            "text/plain": [
              "<Figure size 640x480 with 1 Axes>"
            ]
          },
          "metadata": {},
          "output_type": "display_data"
        }
      ],
      "source": [
        "# use a box plot to display that same data\n",
        "sci_fi_df['runtime_min'].plot(kind='box')\n"
      ]
    },
    {
      "cell_type": "code",
      "execution_count": null,
      "id": "dd5ab717-ea67-4d02-aada-1740a62a4ac3",
      "metadata": {
        "id": "dd5ab717-ea67-4d02-aada-1740a62a4ac3",
        "outputId": "ccb4f404-eec5-4cee-85af-7c88e244920a"
      },
      "outputs": [
        {
          "data": {
            "text/plain": [
              "Text(0, 0.5, 'Title Count')"
            ]
          },
          "execution_count": 104,
          "metadata": {},
          "output_type": "execute_result"
        },
        {
          "data": {
            "image/png": "[encoded data removed]",
            "text/plain": [
              "<Figure size 640x480 with 1 Axes>"
            ]
          },
          "metadata": {},
          "output_type": "display_data"
        }
      ],
      "source": [
        "sci_fi_df[['imdb','movie']].groupby('imdb').count().plot(kind='bar', title='Content Rating Visualization')\n",
        "plt.xlabel('Content Rating')\n",
        "plt.ylabel('Title Count')"
      ]
    },
    {
      "cell_type": "code",
      "execution_count": null,
      "id": "5e7dfb43-8828-45dc-90cb-4afd9c935626",
      "metadata": {
        "id": "5e7dfb43-8828-45dc-90cb-4afd9c935626",
        "outputId": "ab2d1718-a2e9-4966-ee1a-19bf97183884"
      },
      "outputs": [
        {
          "data": {
            "image/png": "[encoded data removed]",
            "text/plain": [
              "<Figure size 640x480 with 1 Axes>"
            ]
          },
          "metadata": {},
          "output_type": "display_data"
        }
      ],
      "source": [
        "# use a visualization to detect whether there is a relationship between duration and star rating\n",
        "sci_fi_df.boxplot(column='runtime_min', by='imdb');"
      ]
    },
    {
      "cell_type": "code",
      "execution_count": null,
      "id": "e5239888-def9-40b8-b79c-8bf32782edbc",
      "metadata": {
        "id": "e5239888-def9-40b8-b79c-8bf32782edbc",
        "outputId": "d7700643-3b0c-4484-cd07-194df1e00ecf"
      },
      "outputs": [
        {
          "data": {
            "application/vnd.plotly.v1+json": {
              "config": {
                "plotlyServerURL": "https://plot.ly"
              },
              "data": [
                {
                  "branchvalues": "total",
                  "customdata": [
                    [
                      7.8
                    ],
                    [
                      8.4
                    ],
                    [
                      8.5
                    ],
                    [
                      6.9
                    ],
                    [
                      7.3
                    ],
                    [
                      7.3
                    ],
                    [
                      5.9
                    ],
                    [
                      8
                    ],
                    [
                      8.1
                    ],
                    [
                      8.6
                    ],
                    [
                      5.7
                    ],
                    [
                      5.2
                    ],
                    [
                      6.9
                    ],
                    [
                      7
                    ],
                    [
                      7.2
                    ],
                    [
                      7.8
                    ],
                    [
                      8.3
                    ],
                    [
                      6.3
                    ],
                    [
                      8.2
                    ]
                  ],
                  "domain": {
                    "x": [
                      0,
                      1
                    ],
                    "y": [
                      0,
                      1
                    ]
                  },
                  "hovertemplate": "labels=%{label}<br>imdb_sum=%{value}<br>parent=%{parent}<br>id=%{id}<br>imdb=%{color}<extra></extra>",
                  "ids": [
                    "Avatar",
                    "Avengers: Endgame",
                    "Back to the Future",
                    "Black Adam",
                    "Black Panther",
                    "Black Panther: Wakanda Forever",
                    "Crimes of the Future",
                    "Dune: Part One",
                    "Everything Everywhere All at Once",
                    "Interstellar",
                    "Jurassic World: Dominion",
                    "Morbius",
                    "Nope",
                    "Oblivion",
                    "Prey",
                    "Rogue One",
                    "Spider-Man: No Way Home",
                    "Thor: Love and Thunder",
                    "V for Vendetta"
                  ],
                  "labels": [
                    "Avatar",
                    "Avengers: Endgame",
                    "Back to the Future",
                    "Black Adam",
                    "Black Panther",
                    "Black Panther: Wakanda Forever",
                    "Crimes of the Future",
                    "Dune: Part One",
                    "Everything Everywhere All at Once",
                    "Interstellar",
                    "Jurassic World: Dominion",
                    "Morbius",
                    "Nope",
                    "Oblivion",
                    "Prey",
                    "Rogue One",
                    "Spider-Man: No Way Home",
                    "Thor: Love and Thunder",
                    "V for Vendetta"
                  ],
                  "marker": {
                    "coloraxis": "coloraxis",
                    "colors": [
                      7.8,
                      8.4,
                      8.5,
                      6.9,
                      7.3,
                      7.3,
                      5.9,
                      8,
                      8.1,
                      8.6,
                      5.7,
                      5.2,
                      6.9,
                      7,
                      7.2,
                      7.8,
                      8.3,
                      6.3,
                      8.2
                    ]
                  },
                  "name": "",
                  "parents": [
                    "",
                    "",
                    "",
                    "",
                    "",
                    "",
                    "",
                    "",
                    "",
                    "",
                    "",
                    "",
                    "",
                    "",
                    "",
                    "",
                    "",
                    "",
                    ""
                  ],
                  "type": "treemap",
                  "values": [
                    7.8,
                    8.4,
                    8.5,
                    6.9,
                    7.3,
                    7.3,
                    5.9,
                    8,
                    8.1,
                    8.6,
                    5.7,
                    5.2,
                    6.9,
                    7,
                    7.2,
                    7.8,
                    8.3,
                    6.3,
                    8.2
                  ]
                }
              ],
              "layout": {
                "autosize": true,
                "coloraxis": {
                  "colorbar": {
                    "title": {
                      "text": "imdb"
                    }
                  },
                  "colorscale": [
                    [
                      0,
                      "#0d0887"
                    ],
                    [
                      0.1111111111111111,
                      "#46039f"
                    ],
                    [
                      0.2222222222222222,
                      "#7201a8"
                    ],
                    [
                      0.3333333333333333,
                      "#9c179e"
                    ],
                    [
                      0.4444444444444444,
                      "#bd3786"
                    ],
                    [
                      0.5555555555555556,
                      "#d8576b"
                    ],
                    [
                      0.6666666666666666,
                      "#ed7953"
                    ],
                    [
                      0.7777777777777778,
                      "#fb9f3a"
                    ],
                    [
                      0.8888888888888888,
                      "#fdca26"
                    ],
                    [
                      1,
                      "#f0f921"
                    ]
                  ]
                },
                "legend": {
                  "tracegroupgap": 0
                },
                "margin": {
                  "t": 60
                },
                "template": {
                  "data": {
                    "bar": [
                      {
                        "error_x": {
                          "color": "#2a3f5f"
                        },
                        "error_y": {
                          "color": "#2a3f5f"
                        },
                        "marker": {
                          "line": {
                            "color": "#E5ECF6",
                            "width": 0.5
                          },
                          "pattern": {
                            "fillmode": "overlay",
                            "size": 10,
                            "solidity": 0.2
                          }
                        },
                        "type": "bar"
                      }
                    ],
                    "barpolar": [
                      {
                        "marker": {
                          "line": {
                            "color": "#E5ECF6",
                            "width": 0.5
                          },
                          "pattern": {
                            "fillmode": "overlay",
                            "size": 10,
                            "solidity": 0.2
                          }
                        },
                        "type": "barpolar"
                      }
                    ],
                    "carpet": [
                      {
                        "aaxis": {
                          "endlinecolor": "#2a3f5f",
                          "gridcolor": "white",
                          "linecolor": "white",
                          "minorgridcolor": "white",
                          "startlinecolor": "#2a3f5f"
                        },
                        "baxis": {
                          "endlinecolor": "#2a3f5f",
                          "gridcolor": "white",
                          "linecolor": "white",
                          "minorgridcolor": "white",
                          "startlinecolor": "#2a3f5f"
                        },
                        "type": "carpet"
                      }
                    ],
                    "choropleth": [
                      {
                        "colorbar": {
                          "outlinewidth": 0,
                          "ticks": ""
                        },
                        "type": "choropleth"
                      }
                    ],
                    "contour": [
                      {
                        "colorbar": {
                          "outlinewidth": 0,
                          "ticks": ""
                        },
                        "colorscale": [
                          [
                            0,
                            "#0d0887"
                          ],
                          [
                            0.1111111111111111,
                            "#46039f"
                          ],
                          [
                            0.2222222222222222,
                            "#7201a8"
                          ],
                          [
                            0.3333333333333333,
                            "#9c179e"
                          ],
                          [
                            0.4444444444444444,
                            "#bd3786"
                          ],
                          [
                            0.5555555555555556,
                            "#d8576b"
                          ],
                          [
                            0.6666666666666666,
                            "#ed7953"
                          ],
                          [
                            0.7777777777777778,
                            "#fb9f3a"
                          ],
                          [
                            0.8888888888888888,
                            "#fdca26"
                          ],
                          [
                            1,
                            "#f0f921"
                          ]
                        ],
                        "type": "contour"
                      }
                    ],
                    "contourcarpet": [
                      {
                        "colorbar": {
                          "outlinewidth": 0,
                          "ticks": ""
                        },
                        "type": "contourcarpet"
                      }
                    ],
                    "heatmap": [
                      {
                        "colorbar": {
                          "outlinewidth": 0,
                          "ticks": ""
                        },
                        "colorscale": [
                          [
                            0,
                            "#0d0887"
                          ],
                          [
                            0.1111111111111111,
                            "#46039f"
                          ],
                          [
                            0.2222222222222222,
                            "#7201a8"
                          ],
                          [
                            0.3333333333333333,
                            "#9c179e"
                          ],
                          [
                            0.4444444444444444,
                            "#bd3786"
                          ],
                          [
                            0.5555555555555556,
                            "#d8576b"
                          ],
                          [
                            0.6666666666666666,
                            "#ed7953"
                          ],
                          [
                            0.7777777777777778,
                            "#fb9f3a"
                          ],
                          [
                            0.8888888888888888,
                            "#fdca26"
                          ],
                          [
                            1,
                            "#f0f921"
                          ]
                        ],
                        "type": "heatmap"
                      }
                    ],
                    "heatmapgl": [
                      {
                        "colorbar": {
                          "outlinewidth": 0,
                          "ticks": ""
                        },
                        "colorscale": [
                          [
                            0,
                            "#0d0887"
                          ],
                          [
                            0.1111111111111111,
                            "#46039f"
                          ],
                          [
                            0.2222222222222222,
                            "#7201a8"
                          ],
                          [
                            0.3333333333333333,
                            "#9c179e"
                          ],
                          [
                            0.4444444444444444,
                            "#bd3786"
                          ],
                          [
                            0.5555555555555556,
                            "#d8576b"
                          ],
                          [
                            0.6666666666666666,
                            "#ed7953"
                          ],
                          [
                            0.7777777777777778,
                            "#fb9f3a"
                          ],
                          [
                            0.8888888888888888,
                            "#fdca26"
                          ],
                          [
                            1,
                            "#f0f921"
                          ]
                        ],
                        "type": "heatmapgl"
                      }
                    ],
                    "histogram": [
                      {
                        "marker": {
                          "pattern": {
                            "fillmode": "overlay",
                            "size": 10,
                            "solidity": 0.2
                          }
                        },
                        "type": "histogram"
                      }
                    ],
                    "histogram2d": [
                      {
                        "colorbar": {
                          "outlinewidth": 0,
                          "ticks": ""
                        },
                        "colorscale": [
                          [
                            0,
                            "#0d0887"
                          ],
                          [
                            0.1111111111111111,
                            "#46039f"
                          ],
                          [
                            0.2222222222222222,
                            "#7201a8"
                          ],
                          [
                            0.3333333333333333,
                            "#9c179e"
                          ],
                          [
                            0.4444444444444444,
                            "#bd3786"
                          ],
                          [
                            0.5555555555555556,
                            "#d8576b"
                          ],
                          [
                            0.6666666666666666,
                            "#ed7953"
                          ],
                          [
                            0.7777777777777778,
                            "#fb9f3a"
                          ],
                          [
                            0.8888888888888888,
                            "#fdca26"
                          ],
                          [
                            1,
                            "#f0f921"
                          ]
                        ],
                        "type": "histogram2d"
                      }
                    ],
                    "histogram2dcontour": [
                      {
                        "colorbar": {
                          "outlinewidth": 0,
                          "ticks": ""
                        },
                        "colorscale": [
                          [
                            0,
                            "#0d0887"
                          ],
                          [
                            0.1111111111111111,
                            "#46039f"
                          ],
                          [
                            0.2222222222222222,
                            "#7201a8"
                          ],
                          [
                            0.3333333333333333,
                            "#9c179e"
                          ],
                          [
                            0.4444444444444444,
                            "#bd3786"
                          ],
                          [
                            0.5555555555555556,
                            "#d8576b"
                          ],
                          [
                            0.6666666666666666,
                            "#ed7953"
                          ],
                          [
                            0.7777777777777778,
                            "#fb9f3a"
                          ],
                          [
                            0.8888888888888888,
                            "#fdca26"
                          ],
                          [
                            1,
                            "#f0f921"
                          ]
                        ],
                        "type": "histogram2dcontour"
                      }
                    ],
                    "mesh3d": [
                      {
                        "colorbar": {
                          "outlinewidth": 0,
                          "ticks": ""
                        },
                        "type": "mesh3d"
                      }
                    ],
                    "parcoords": [
                      {
                        "line": {
                          "colorbar": {
                            "outlinewidth": 0,
                            "ticks": ""
                          }
                        },
                        "type": "parcoords"
                      }
                    ],
                    "pie": [
                      {
                        "automargin": true,
                        "type": "pie"
                      }
                    ],
                    "scatter": [
                      {
                        "fillpattern": {
                          "fillmode": "overlay",
                          "size": 10,
                          "solidity": 0.2
                        },
                        "type": "scatter"
                      }
                    ],
                    "scatter3d": [
                      {
                        "line": {
                          "colorbar": {
                            "outlinewidth": 0,
                            "ticks": ""
                          }
                        },
                        "marker": {
                          "colorbar": {
                            "outlinewidth": 0,
                            "ticks": ""
                          }
                        },
                        "type": "scatter3d"
                      }
                    ],
                    "scattercarpet": [
                      {
                        "marker": {
                          "colorbar": {
                            "outlinewidth": 0,
                            "ticks": ""
                          }
                        },
                        "type": "scattercarpet"
                      }
                    ],
                    "scattergeo": [
                      {
                        "marker": {
                          "colorbar": {
                            "outlinewidth": 0,
                            "ticks": ""
                          }
                        },
                        "type": "scattergeo"
                      }
                    ],
                    "scattergl": [
                      {
                        "marker": {
                          "colorbar": {
                            "outlinewidth": 0,
                            "ticks": ""
                          }
                        },
                        "type": "scattergl"
                      }
                    ],
                    "scattermapbox": [
                      {
                        "marker": {
                          "colorbar": {
                            "outlinewidth": 0,
                            "ticks": ""
                          }
                        },
                        "type": "scattermapbox"
                      }
                    ],
                    "scatterpolar": [
                      {
                        "marker": {
                          "colorbar": {
                            "outlinewidth": 0,
                            "ticks": ""
                          }
                        },
                        "type": "scatterpolar"
                      }
                    ],
                    "scatterpolargl": [
                      {
                        "marker": {
                          "colorbar": {
                            "outlinewidth": 0,
                            "ticks": ""
                          }
                        },
                        "type": "scatterpolargl"
                      }
                    ],
                    "scatterternary": [
                      {
                        "marker": {
                          "colorbar": {
                            "outlinewidth": 0,
                            "ticks": ""
                          }
                        },
                        "type": "scatterternary"
                      }
                    ],
                    "surface": [
                      {
                        "colorbar": {
                          "outlinewidth": 0,
                          "ticks": ""
                        },
                        "colorscale": [
                          [
                            0,
                            "#0d0887"
                          ],
                          [
                            0.1111111111111111,
                            "#46039f"
                          ],
                          [
                            0.2222222222222222,
                            "#7201a8"
                          ],
                          [
                            0.3333333333333333,
                            "#9c179e"
                          ],
                          [
                            0.4444444444444444,
                            "#bd3786"
                          ],
                          [
                            0.5555555555555556,
                            "#d8576b"
                          ],
                          [
                            0.6666666666666666,
                            "#ed7953"
                          ],
                          [
                            0.7777777777777778,
                            "#fb9f3a"
                          ],
                          [
                            0.8888888888888888,
                            "#fdca26"
                          ],
                          [
                            1,
                            "#f0f921"
                          ]
                        ],
                        "type": "surface"
                      }
                    ],
                    "table": [
                      {
                        "cells": {
                          "fill": {
                            "color": "#EBF0F8"
                          },
                          "line": {
                            "color": "white"
                          }
                        },
                        "header": {
                          "fill": {
                            "color": "#C8D4E3"
                          },
                          "line": {
                            "color": "white"
                          }
                        },
                        "type": "table"
                      }
                    ]
                  },
                  "layout": {
                    "annotationdefaults": {
                      "arrowcolor": "#2a3f5f",
                      "arrowhead": 0,
                      "arrowwidth": 1
                    },
                    "autotypenumbers": "strict",
                    "coloraxis": {
                      "colorbar": {
                        "outlinewidth": 0,
                        "ticks": ""
                      }
                    },
                    "colorscale": {
                      "diverging": [
                        [
                          0,
                          "#8e0152"
                        ],
                        [
                          0.1,
                          "#c51b7d"
                        ],
                        [
                          0.2,
                          "#de77ae"
                        ],
                        [
                          0.3,
                          "#f1b6da"
                        ],
                        [
                          0.4,
                          "#fde0ef"
                        ],
                        [
                          0.5,
                          "#f7f7f7"
                        ],
                        [
                          0.6,
                          "#e6f5d0"
                        ],
                        [
                          0.7,
                          "#b8e186"
                        ],
                        [
                          0.8,
                          "#7fbc41"
                        ],
                        [
                          0.9,
                          "#4d9221"
                        ],
                        [
                          1,
                          "#276419"
                        ]
                      ],
                      "sequential": [
                        [
                          0,
                          "#0d0887"
                        ],
                        [
                          0.1111111111111111,
                          "#46039f"
                        ],
                        [
                          0.2222222222222222,
                          "#7201a8"
                        ],
                        [
                          0.3333333333333333,
                          "#9c179e"
                        ],
                        [
                          0.4444444444444444,
                          "#bd3786"
                        ],
                        [
                          0.5555555555555556,
                          "#d8576b"
                        ],
                        [
                          0.6666666666666666,
                          "#ed7953"
                        ],
                        [
                          0.7777777777777778,
                          "#fb9f3a"
                        ],
                        [
                          0.8888888888888888,
                          "#fdca26"
                        ],
                        [
                          1,
                          "#f0f921"
                        ]
                      ],
                      "sequentialminus": [
                        [
                          0,
                          "#0d0887"
                        ],
                        [
                          0.1111111111111111,
                          "#46039f"
                        ],
                        [
                          0.2222222222222222,
                          "#7201a8"
                        ],
                        [
                          0.3333333333333333,
                          "#9c179e"
                        ],
                        [
                          0.4444444444444444,
                          "#bd3786"
                        ],
                        [
                          0.5555555555555556,
                          "#d8576b"
                        ],
                        [
                          0.6666666666666666,
                          "#ed7953"
                        ],
                        [
                          0.7777777777777778,
                          "#fb9f3a"
                        ],
                        [
                          0.8888888888888888,
                          "#fdca26"
                        ],
                        [
                          1,
                          "#f0f921"
                        ]
                      ]
                    },
                    "colorway": [
                      "#636efa",
                      "#EF553B",
                      "#00cc96",
                      "#ab63fa",
                      "#FFA15A",
                      "#19d3f3",
                      "#FF6692",
                      "#B6E880",
                      "#FF97FF",
                      "#FECB52"
                    ],
                    "font": {
                      "color": "#2a3f5f"
                    },
                    "geo": {
                      "bgcolor": "white",
                      "lakecolor": "white",
                      "landcolor": "#E5ECF6",
                      "showlakes": true,
                      "showland": true,
                      "subunitcolor": "white"
                    },
                    "hoverlabel": {
                      "align": "left"
                    },
                    "hovermode": "closest",
                    "mapbox": {
                      "style": "light"
                    },
                    "paper_bgcolor": "white",
                    "plot_bgcolor": "#E5ECF6",
                    "polar": {
                      "angularaxis": {
                        "gridcolor": "white",
                        "linecolor": "white",
                        "ticks": ""
                      },
                      "bgcolor": "#E5ECF6",
                      "radialaxis": {
                        "gridcolor": "white",
                        "linecolor": "white",
                        "ticks": ""
                      }
                    },
                    "scene": {
                      "xaxis": {
                        "backgroundcolor": "#E5ECF6",
                        "gridcolor": "white",
                        "gridwidth": 2,
                        "linecolor": "white",
                        "showbackground": true,
                        "ticks": "",
                        "zerolinecolor": "white"
                      },
                      "yaxis": {
                        "backgroundcolor": "#E5ECF6",
                        "gridcolor": "white",
                        "gridwidth": 2,
                        "linecolor": "white",
                        "showbackground": true,
                        "ticks": "",
                        "zerolinecolor": "white"
                      },
                      "zaxis": {
                        "backgroundcolor": "#E5ECF6",
                        "gridcolor": "white",
                        "gridwidth": 2,
                        "linecolor": "white",
                        "showbackground": true,
                        "ticks": "",
                        "zerolinecolor": "white"
                      }
                    },
                    "shapedefaults": {
                      "line": {
                        "color": "#2a3f5f"
                      }
                    },
                    "ternary": {
                      "aaxis": {
                        "gridcolor": "white",
                        "linecolor": "white",
                        "ticks": ""
                      },
                      "baxis": {
                        "gridcolor": "white",
                        "linecolor": "white",
                        "ticks": ""
                      },
                      "bgcolor": "#E5ECF6",
                      "caxis": {
                        "gridcolor": "white",
                        "linecolor": "white",
                        "ticks": ""
                      }
                    },
                    "title": {
                      "x": 0.05
                    },
                    "xaxis": {
                      "automargin": true,
                      "gridcolor": "white",
                      "linecolor": "white",
                      "ticks": "",
                      "title": {
                        "standoff": 15
                      },
                      "zerolinecolor": "white",
                      "zerolinewidth": 2
                    },
                    "yaxis": {
                      "automargin": true,
                      "gridcolor": "white",
                      "linecolor": "white",
                      "ticks": "",
                      "title": {
                        "standoff": 15
                      },
                      "zerolinecolor": "white",
                      "zerolinewidth": 2
                    }
                  }
                }
              }
            },
            "image/png": "[encoded data removed]",
            "text/html": [
              "<div>                            <div id=\"53833085-52b7-4b24-af17-b166a12c0787\" class=\"plotly-graph-div\" style=\"height:525px; width:100%;\"></div>            <script type=\"text/javascript\">                require([\"plotly\"], function(Plotly) {                    window.PLOTLYENV=window.PLOTLYENV || {};                                    if (document.getElementById(\"53833085-52b7-4b24-af17-b166a12c0787\")) {                    Plotly.newPlot(                        \"53833085-52b7-4b24-af17-b166a12c0787\",                        [{\"branchvalues\":\"total\",\"customdata\":[[7.8],[8.4],[8.5],[6.9],[7.3],[7.3],[5.9],[8.0],[8.1],[8.6],[5.7],[5.2],[6.9],[7.0],[7.2],[7.8],[8.3],[6.3],[8.2]],\"domain\":{\"x\":[0.0,1.0],\"y\":[0.0,1.0]},\"hovertemplate\":\"labels=%{label}<br>imdb_sum=%{value}<br>parent=%{parent}<br>id=%{id}<br>imdb=%{color}<extra></extra>\",\"ids\":[\"Avatar\",\"Avengers: Endgame\",\"Back to the Future\",\"Black Adam\",\"Black Panther\",\"Black Panther: Wakanda Forever\",\"Crimes of the Future\",\"Dune: Part One\",\"Everything Everywhere All at Once\",\"Interstellar\",\"Jurassic World: Dominion\",\"Morbius\",\"Nope\",\"Oblivion\",\"Prey\",\"Rogue One\",\"Spider-Man: No Way Home\",\"Thor: Love and Thunder\",\"V for Vendetta\"],\"labels\":[\"Avatar\",\"Avengers: Endgame\",\"Back to the Future\",\"Black Adam\",\"Black Panther\",\"Black Panther: Wakanda Forever\",\"Crimes of the Future\",\"Dune: Part One\",\"Everything Everywhere All at Once\",\"Interstellar\",\"Jurassic World: Dominion\",\"Morbius\",\"Nope\",\"Oblivion\",\"Prey\",\"Rogue One\",\"Spider-Man: No Way Home\",\"Thor: Love and Thunder\",\"V for Vendetta\"],\"marker\":{\"coloraxis\":\"coloraxis\",\"colors\":[7.8,8.4,8.5,6.9,7.3,7.3,5.9,8.0,8.1,8.6,5.7,5.2,6.9,7.0,7.2,7.8,8.3,6.3,8.2]},\"name\":\"\",\"parents\":[\"\",\"\",\"\",\"\",\"\",\"\",\"\",\"\",\"\",\"\",\"\",\"\",\"\",\"\",\"\",\"\",\"\",\"\",\"\"],\"values\":[7.8,8.4,8.5,6.9,7.3,7.3,5.9,8.0,8.1,8.6,5.7,5.2,6.9,7.0,7.2,7.8,8.3,6.3,8.2],\"type\":\"treemap\"}],                        {\"template\":{\"data\":{\"histogram2dcontour\":[{\"type\":\"histogram2dcontour\",\"colorbar\":{\"outlinewidth\":0,\"ticks\":\"\"},\"colorscale\":[[0.0,\"#0d0887\"],[0.1111111111111111,\"#46039f\"],[0.2222222222222222,\"#7201a8\"],[0.3333333333333333,\"#9c179e\"],[0.4444444444444444,\"#bd3786\"],[0.5555555555555556,\"#d8576b\"],[0.6666666666666666,\"#ed7953\"],[0.7777777777777778,\"#fb9f3a\"],[0.8888888888888888,\"#fdca26\"],[1.0,\"#f0f921\"]]}],\"choropleth\":[{\"type\":\"choropleth\",\"colorbar\":{\"outlinewidth\":0,\"ticks\":\"\"}}],\"histogram2d\":[{\"type\":\"histogram2d\",\"colorbar\":{\"outlinewidth\":0,\"ticks\":\"\"},\"colorscale\":[[0.0,\"#0d0887\"],[0.1111111111111111,\"#46039f\"],[0.2222222222222222,\"#7201a8\"],[0.3333333333333333,\"#9c179e\"],[0.4444444444444444,\"#bd3786\"],[0.5555555555555556,\"#d8576b\"],[0.6666666666666666,\"#ed7953\"],[0.7777777777777778,\"#fb9f3a\"],[0.8888888888888888,\"#fdca26\"],[1.0,\"#f0f921\"]]}],\"heatmap\":[{\"type\":\"heatmap\",\"colorbar\":{\"outlinewidth\":0,\"ticks\":\"\"},\"colorscale\":[[0.0,\"#0d0887\"],[0.1111111111111111,\"#46039f\"],[0.2222222222222222,\"#7201a8\"],[0.3333333333333333,\"#9c179e\"],[0.4444444444444444,\"#bd3786\"],[0.5555555555555556,\"#d8576b\"],[0.6666666666666666,\"#ed7953\"],[0.7777777777777778,\"#fb9f3a\"],[0.8888888888888888,\"#fdca26\"],[1.0,\"#f0f921\"]]}],\"heatmapgl\":[{\"type\":\"heatmapgl\",\"colorbar\":{\"outlinewidth\":0,\"ticks\":\"\"},\"colorscale\":[[0.0,\"#0d0887\"],[0.1111111111111111,\"#46039f\"],[0.2222222222222222,\"#7201a8\"],[0.3333333333333333,\"#9c179e\"],[0.4444444444444444,\"#bd3786\"],[0.5555555555555556,\"#d8576b\"],[0.6666666666666666,\"#ed7953\"],[0.7777777777777778,\"#fb9f3a\"],[0.8888888888888888,\"#fdca26\"],[1.0,\"#f0f921\"]]}],\"contourcarpet\":[{\"type\":\"contourcarpet\",\"colorbar\":{\"outlinewidth\":0,\"ticks\":\"\"}}],\"contour\":[{\"type\":\"contour\",\"colorbar\":{\"outlinewidth\":0,\"ticks\":\"\"},\"colorscale\":[[0.0,\"#0d0887\"],[0.1111111111111111,\"#46039f\"],[0.2222222222222222,\"#7201a8\"],[0.3333333333333333,\"#9c179e\"],[0.4444444444444444,\"#bd3786\"],[0.5555555555555556,\"#d8576b\"],[0.6666666666666666,\"#ed7953\"],[0.7777777777777778,\"#fb9f3a\"],[0.8888888888888888,\"#fdca26\"],[1.0,\"#f0f921\"]]}],\"surface\":[{\"type\":\"surface\",\"colorbar\":{\"outlinewidth\":0,\"ticks\":\"\"},\"colorscale\":[[0.0,\"#0d0887\"],[0.1111111111111111,\"#46039f\"],[0.2222222222222222,\"#7201a8\"],[0.3333333333333333,\"#9c179e\"],[0.4444444444444444,\"#bd3786\"],[0.5555555555555556,\"#d8576b\"],[0.6666666666666666,\"#ed7953\"],[0.7777777777777778,\"#fb9f3a\"],[0.8888888888888888,\"#fdca26\"],[1.0,\"#f0f921\"]]}],\"mesh3d\":[{\"type\":\"mesh3d\",\"colorbar\":{\"outlinewidth\":0,\"ticks\":\"\"}}],\"scatter\":[{\"fillpattern\":{\"fillmode\":\"overlay\",\"size\":10,\"solidity\":0.2},\"type\":\"scatter\"}],\"parcoords\":[{\"type\":\"parcoords\",\"line\":{\"colorbar\":{\"outlinewidth\":0,\"ticks\":\"\"}}}],\"scatterpolargl\":[{\"type\":\"scatterpolargl\",\"marker\":{\"colorbar\":{\"outlinewidth\":0,\"ticks\":\"\"}}}],\"bar\":[{\"error_x\":{\"color\":\"#2a3f5f\"},\"error_y\":{\"color\":\"#2a3f5f\"},\"marker\":{\"line\":{\"color\":\"#E5ECF6\",\"width\":0.5},\"pattern\":{\"fillmode\":\"overlay\",\"size\":10,\"solidity\":0.2}},\"type\":\"bar\"}],\"scattergeo\":[{\"type\":\"scattergeo\",\"marker\":{\"colorbar\":{\"outlinewidth\":0,\"ticks\":\"\"}}}],\"scatterpolar\":[{\"type\":\"scatterpolar\",\"marker\":{\"colorbar\":{\"outlinewidth\":0,\"ticks\":\"\"}}}],\"histogram\":[{\"marker\":{\"pattern\":{\"fillmode\":\"overlay\",\"size\":10,\"solidity\":0.2}},\"type\":\"histogram\"}],\"scattergl\":[{\"type\":\"scattergl\",\"marker\":{\"colorbar\":{\"outlinewidth\":0,\"ticks\":\"\"}}}],\"scatter3d\":[{\"type\":\"scatter3d\",\"line\":{\"colorbar\":{\"outlinewidth\":0,\"ticks\":\"\"}},\"marker\":{\"colorbar\":{\"outlinewidth\":0,\"ticks\":\"\"}}}],\"scattermapbox\":[{\"type\":\"scattermapbox\",\"marker\":{\"colorbar\":{\"outlinewidth\":0,\"ticks\":\"\"}}}],\"scatterternary\":[{\"type\":\"scatterternary\",\"marker\":{\"colorbar\":{\"outlinewidth\":0,\"ticks\":\"\"}}}],\"scattercarpet\":[{\"type\":\"scattercarpet\",\"marker\":{\"colorbar\":{\"outlinewidth\":0,\"ticks\":\"\"}}}],\"carpet\":[{\"aaxis\":{\"endlinecolor\":\"#2a3f5f\",\"gridcolor\":\"white\",\"linecolor\":\"white\",\"minorgridcolor\":\"white\",\"startlinecolor\":\"#2a3f5f\"},\"baxis\":{\"endlinecolor\":\"#2a3f5f\",\"gridcolor\":\"white\",\"linecolor\":\"white\",\"minorgridcolor\":\"white\",\"startlinecolor\":\"#2a3f5f\"},\"type\":\"carpet\"}],\"table\":[{\"cells\":{\"fill\":{\"color\":\"#EBF0F8\"},\"line\":{\"color\":\"white\"}},\"header\":{\"fill\":{\"color\":\"#C8D4E3\"},\"line\":{\"color\":\"white\"}},\"type\":\"table\"}],\"barpolar\":[{\"marker\":{\"line\":{\"color\":\"#E5ECF6\",\"width\":0.5},\"pattern\":{\"fillmode\":\"overlay\",\"size\":10,\"solidity\":0.2}},\"type\":\"barpolar\"}],\"pie\":[{\"automargin\":true,\"type\":\"pie\"}]},\"layout\":{\"autotypenumbers\":\"strict\",\"colorway\":[\"#636efa\",\"#EF553B\",\"#00cc96\",\"#ab63fa\",\"#FFA15A\",\"#19d3f3\",\"#FF6692\",\"#B6E880\",\"#FF97FF\",\"#FECB52\"],\"font\":{\"color\":\"#2a3f5f\"},\"hovermode\":\"closest\",\"hoverlabel\":{\"align\":\"left\"},\"paper_bgcolor\":\"white\",\"plot_bgcolor\":\"#E5ECF6\",\"polar\":{\"bgcolor\":\"#E5ECF6\",\"angularaxis\":{\"gridcolor\":\"white\",\"linecolor\":\"white\",\"ticks\":\"\"},\"radialaxis\":{\"gridcolor\":\"white\",\"linecolor\":\"white\",\"ticks\":\"\"}},\"ternary\":{\"bgcolor\":\"#E5ECF6\",\"aaxis\":{\"gridcolor\":\"white\",\"linecolor\":\"white\",\"ticks\":\"\"},\"baxis\":{\"gridcolor\":\"white\",\"linecolor\":\"white\",\"ticks\":\"\"},\"caxis\":{\"gridcolor\":\"white\",\"linecolor\":\"white\",\"ticks\":\"\"}},\"coloraxis\":{\"colorbar\":{\"outlinewidth\":0,\"ticks\":\"\"}},\"colorscale\":{\"sequential\":[[0.0,\"#0d0887\"],[0.1111111111111111,\"#46039f\"],[0.2222222222222222,\"#7201a8\"],[0.3333333333333333,\"#9c179e\"],[0.4444444444444444,\"#bd3786\"],[0.5555555555555556,\"#d8576b\"],[0.6666666666666666,\"#ed7953\"],[0.7777777777777778,\"#fb9f3a\"],[0.8888888888888888,\"#fdca26\"],[1.0,\"#f0f921\"]],\"sequentialminus\":[[0.0,\"#0d0887\"],[0.1111111111111111,\"#46039f\"],[0.2222222222222222,\"#7201a8\"],[0.3333333333333333,\"#9c179e\"],[0.4444444444444444,\"#bd3786\"],[0.5555555555555556,\"#d8576b\"],[0.6666666666666666,\"#ed7953\"],[0.7777777777777778,\"#fb9f3a\"],[0.8888888888888888,\"#fdca26\"],[1.0,\"#f0f921\"]],\"diverging\":[[0,\"#8e0152\"],[0.1,\"#c51b7d\"],[0.2,\"#de77ae\"],[0.3,\"#f1b6da\"],[0.4,\"#fde0ef\"],[0.5,\"#f7f7f7\"],[0.6,\"#e6f5d0\"],[0.7,\"#b8e186\"],[0.8,\"#7fbc41\"],[0.9,\"#4d9221\"],[1,\"#276419\"]]},\"xaxis\":{\"gridcolor\":\"white\",\"linecolor\":\"white\",\"ticks\":\"\",\"title\":{\"standoff\":15},\"zerolinecolor\":\"white\",\"automargin\":true,\"zerolinewidth\":2},\"yaxis\":{\"gridcolor\":\"white\",\"linecolor\":\"white\",\"ticks\":\"\",\"title\":{\"standoff\":15},\"zerolinecolor\":\"white\",\"automargin\":true,\"zerolinewidth\":2},\"scene\":{\"xaxis\":{\"backgroundcolor\":\"#E5ECF6\",\"gridcolor\":\"white\",\"linecolor\":\"white\",\"showbackground\":true,\"ticks\":\"\",\"zerolinecolor\":\"white\",\"gridwidth\":2},\"yaxis\":{\"backgroundcolor\":\"#E5ECF6\",\"gridcolor\":\"white\",\"linecolor\":\"white\",\"showbackground\":true,\"ticks\":\"\",\"zerolinecolor\":\"white\",\"gridwidth\":2},\"zaxis\":{\"backgroundcolor\":\"#E5ECF6\",\"gridcolor\":\"white\",\"linecolor\":\"white\",\"showbackground\":true,\"ticks\":\"\",\"zerolinecolor\":\"white\",\"gridwidth\":2}},\"shapedefaults\":{\"line\":{\"color\":\"#2a3f5f\"}},\"annotationdefaults\":{\"arrowcolor\":\"#2a3f5f\",\"arrowhead\":0,\"arrowwidth\":1},\"geo\":{\"bgcolor\":\"white\",\"landcolor\":\"#E5ECF6\",\"subunitcolor\":\"white\",\"showland\":true,\"showlakes\":true,\"lakecolor\":\"white\"},\"title\":{\"x\":0.05},\"mapbox\":{\"style\":\"light\"}}},\"coloraxis\":{\"colorbar\":{\"title\":{\"text\":\"imdb\"}},\"colorscale\":[[0.0,\"#0d0887\"],[0.1111111111111111,\"#46039f\"],[0.2222222222222222,\"#7201a8\"],[0.3333333333333333,\"#9c179e\"],[0.4444444444444444,\"#bd3786\"],[0.5555555555555556,\"#d8576b\"],[0.6666666666666666,\"#ed7953\"],[0.7777777777777778,\"#fb9f3a\"],[0.8888888888888888,\"#fdca26\"],[1.0,\"#f0f921\"]]},\"legend\":{\"tracegroupgap\":0},\"margin\":{\"t\":60}},                        {\"responsive\": true}                    ).then(function(){\n",
              "                            \n",
              "var gd = document.getElementById('53833085-52b7-4b24-af17-b166a12c0787');\n",
              "var x = new MutationObserver(function (mutations, observer) {{\n",
              "        var display = window.getComputedStyle(gd).display;\n",
              "        if (!display || display === 'none') {{\n",
              "            console.log([gd, 'removed!']);\n",
              "            Plotly.purge(gd);\n",
              "            observer.disconnect();\n",
              "        }}\n",
              "}});\n",
              "\n",
              "// Listen for the removal of the full notebook cells\n",
              "var notebookContainer = gd.closest('#notebook-container');\n",
              "if (notebookContainer) {{\n",
              "    x.observe(notebookContainer, {childList: true});\n",
              "}}\n",
              "\n",
              "// Listen for the clearing of the current output cell\n",
              "var outputEl = gd.closest('.output');\n",
              "if (outputEl) {{\n",
              "    x.observe(outputEl, {childList: true});\n",
              "}}\n",
              "\n",
              "                        })                };                });            </script>        </div>"
            ]
          },
          "metadata": {},
          "output_type": "display_data"
        }
      ],
      "source": [
        "import plotly.express as px\n",
        "fig =px.treemap(\n",
        "    sci_fi_df,\n",
        "    path=['movie'],\n",
        "    values='imdb',\n",
        "    color='imdb')\n",
        "fig.show()"
      ]
    },
    {
      "cell_type": "code",
      "execution_count": null,
      "id": "a4fec754-365a-4762-9e38-06c1b1ac8c9c",
      "metadata": {
        "id": "a4fec754-365a-4762-9e38-06c1b1ac8c9c",
        "outputId": "5ec9cd7f-f675-46ba-97a3-e4f6cd71eec3"
      },
      "outputs": [
        {
          "data": {
            "text/plain": [
              "[Text(0.5, 1.0, 'Cout of film depends on year release')]"
            ]
          },
          "execution_count": 119,
          "metadata": {},
          "output_type": "execute_result"
        },
        {
          "data": {
            "image/png": "[encoded data removed]",
            "text/plain": [
              "<Figure size 1200x1000 with 1 Axes>"
            ]
          },
          "metadata": {},
          "output_type": "display_data"
        }
      ],
      "source": [
        "plt.figure(figsize=(12,10))\n",
        "sns.set(style=\"darkgrid\")\n",
        "ax = sns.countplot(y=\"year\", data=sci_fi_df, palette=\"Set2\", order=sci_fi_df['year'].value_counts().index[0:15])\n",
        "ax.set(title='Cout of film depends on year release')"
      ]
    },
    {
      "cell_type": "markdown",
      "id": "5e4440eb-a20e-49f3-b98d-cdb9c6102d58",
      "metadata": {
        "id": "5e4440eb-a20e-49f3-b98d-cdb9c6102d58"
      },
      "source": [
        "## SCRAP REVIEWS\n",
        "\n"
      ]
    },
    {
      "cell_type": "code",
      "execution_count": null,
      "id": "63866bed-f5a2-45b6-9a1e-8310d5b4eccc",
      "metadata": {
        "id": "63866bed-f5a2-45b6-9a1e-8310d5b4eccc"
      },
      "outputs": [],
      "source": [
        "#function to get the url to scrap review\n",
        "def get_review_link (movie_url) :\n",
        "    r = requests.get(movie_url)\n",
        "    r.url\n",
        "    r.json\n",
        "    content = BeautifulSoup(r.text, 'html.parser')\n",
        "    link=[]\n",
        "    review_containers = content.find_all('div', class_=\"ipc-title__wrapper\")\n",
        "    for tag in review_containers:\n",
        "        l='https://www.imdb.com/' + tag.find('a')['href']\n",
        "        link.append(l)\n",
        "    return link[5]"
      ]
    },
    {
      "cell_type": "code",
      "execution_count": null,
      "id": "bf3f71c2-1617-40fb-8007-f36db3e03942",
      "metadata": {
        "id": "bf3f71c2-1617-40fb-8007-f36db3e03942"
      },
      "outputs": [],
      "source": [
        "#function that return the reviews\n",
        "def get_reviews(review_link) :\n",
        "    r = requests.get(review_link)\n",
        "    r.url\n",
        "    r.json\n",
        "    content = BeautifulSoup(r.text, 'html.parser')\n",
        "    review= []\n",
        "    review_containers = content.find_all('div', class_=\"text show-more__control\")\n",
        "    for container in review_containers:\n",
        "        r = container.text\n",
        "        review.append(r)\n",
        "    df = pd.DataFrame({'review': review})\n",
        "    return df"
      ]
    },
    {
      "cell_type": "code",
      "execution_count": null,
      "id": "37bde787-75f6-4d41-a1ee-c9fbbd8c2aed",
      "metadata": {
        "id": "37bde787-75f6-4d41-a1ee-c9fbbd8c2aed"
      },
      "outputs": [],
      "source": [
        "review=[]"
      ]
    },
    {
      "cell_type": "code",
      "execution_count": null,
      "id": "70b296d4-5b76-4ecf-8cf4-18f552f2a86d",
      "metadata": {
        "id": "70b296d4-5b76-4ecf-8cf4-18f552f2a86d",
        "outputId": "fef2d8de-85bd-45f8-de72-7102d2b74a69"
      },
      "outputs": [
        {
          "data": {
            "text/plain": [
              "(19, 8)"
            ]
          },
          "execution_count": 48,
          "metadata": {},
          "output_type": "execute_result"
        }
      ],
      "source": [
        "sci_fi_df.shape"
      ]
    },
    {
      "cell_type": "code",
      "execution_count": null,
      "id": "b58d0c6d-997c-4614-882c-defa8625767a",
      "metadata": {
        "id": "b58d0c6d-997c-4614-882c-defa8625767a"
      },
      "outputs": [],
      "source": [
        "for i in range(len(sci_fi_df)):\n",
        "    movie_url= sci_fi_df.iloc[i,7]\n",
        "    review_url= get_review_link (movie_url)\n",
        "    review.append(review_url)\n",
        "sci_fi_df[\"Review_links\"]=review"
      ]
    },
    {
      "cell_type": "code",
      "execution_count": null,
      "id": "9ee4dda8-1b96-431d-8c36-7d1e53054836",
      "metadata": {
        "id": "9ee4dda8-1b96-431d-8c36-7d1e53054836",
        "outputId": "fde57009-5a02-4806-e19b-9a0b463bff12"
      },
      "outputs": [
        {
          "data": {
            "text/html": [
              "<div>\n",
              "<style scoped>\n",
              "    .dataframe tbody tr th:only-of-type {\n",
              "        vertical-align: middle;\n",
              "    }\n",
              "\n",
              "    .dataframe tbody tr th {\n",
              "        vertical-align: top;\n",
              "    }\n",
              "\n",
              "    .dataframe thead th {\n",
              "        text-align: right;\n",
              "    }\n",
              "</style>\n",
              "<table border=\"1\" class=\"dataframe\">\n",
              "  <thead>\n",
              "    <tr style=\"text-align: right;\">\n",
              "      <th></th>\n",
              "      <th>movie</th>\n",
              "      <th>year</th>\n",
              "      <th>rating</th>\n",
              "      <th>genre</th>\n",
              "      <th>runtime_min</th>\n",
              "      <th>imdb</th>\n",
              "      <th>metascore</th>\n",
              "      <th>movie_link</th>\n",
              "      <th>Review_links</th>\n",
              "    </tr>\n",
              "  </thead>\n",
              "  <tbody>\n",
              "    <tr>\n",
              "      <th>0</th>\n",
              "      <td>Black Panther: Wakanda Forever</td>\n",
              "      <td>2022-01-01</td>\n",
              "      <td>PG-13</td>\n",
              "      <td>[Action,  Adventure,  Drama]</td>\n",
              "      <td>161</td>\n",
              "      <td>7.3</td>\n",
              "      <td>67</td>\n",
              "      <td>https://www.imdb.com//title/tt9114286/</td>\n",
              "      <td>https://www.imdb.com//title/tt9114286/reviews?...</td>\n",
              "    </tr>\n",
              "    <tr>\n",
              "      <th>1</th>\n",
              "      <td>Black Adam</td>\n",
              "      <td>2022-01-01</td>\n",
              "      <td>PG-13</td>\n",
              "      <td>[Action,  Adventure,  Fantasy]</td>\n",
              "      <td>125</td>\n",
              "      <td>6.9</td>\n",
              "      <td>41</td>\n",
              "      <td>https://www.imdb.com//title/tt6443346/</td>\n",
              "      <td>https://www.imdb.com//title/tt6443346/reviews?...</td>\n",
              "    </tr>\n",
              "    <tr>\n",
              "      <th>2</th>\n",
              "      <td>Black Panther</td>\n",
              "      <td>2018-01-01</td>\n",
              "      <td>PG-13</td>\n",
              "      <td>[Action,  Adventure,  Sci-Fi]</td>\n",
              "      <td>134</td>\n",
              "      <td>7.3</td>\n",
              "      <td>88</td>\n",
              "      <td>https://www.imdb.com//title/tt1825683/</td>\n",
              "      <td>https://www.imdb.com//title/tt1825683/reviews?...</td>\n",
              "    </tr>\n",
              "    <tr>\n",
              "      <th>3</th>\n",
              "      <td>Everything Everywhere All at Once</td>\n",
              "      <td>2022-01-01</td>\n",
              "      <td>R</td>\n",
              "      <td>[Action,  Adventure,  Comedy]</td>\n",
              "      <td>139</td>\n",
              "      <td>8.1</td>\n",
              "      <td>81</td>\n",
              "      <td>https://www.imdb.com//title/tt6710474/</td>\n",
              "      <td>https://www.imdb.com//title/tt6710474/reviews?...</td>\n",
              "    </tr>\n",
              "    <tr>\n",
              "      <th>4</th>\n",
              "      <td>Nope</td>\n",
              "      <td>2022-01-01</td>\n",
              "      <td>R</td>\n",
              "      <td>[Horror,  Mystery,  Sci-Fi]</td>\n",
              "      <td>130</td>\n",
              "      <td>6.9</td>\n",
              "      <td>77</td>\n",
              "      <td>https://www.imdb.com//title/tt10954984/</td>\n",
              "      <td>https://www.imdb.com//title/tt10954984/reviews...</td>\n",
              "    </tr>\n",
              "    <tr>\n",
              "      <th>5</th>\n",
              "      <td>Thor: Love and Thunder</td>\n",
              "      <td>2022-01-01</td>\n",
              "      <td>PG-13</td>\n",
              "      <td>[Action,  Adventure,  Comedy]</td>\n",
              "      <td>118</td>\n",
              "      <td>6.3</td>\n",
              "      <td>57</td>\n",
              "      <td>https://www.imdb.com//title/tt10648342/</td>\n",
              "      <td>https://www.imdb.com//title/tt10648342/reviews...</td>\n",
              "    </tr>\n",
              "    <tr>\n",
              "      <th>6</th>\n",
              "      <td>Avatar</td>\n",
              "      <td>2009-01-01</td>\n",
              "      <td>PG-13</td>\n",
              "      <td>[Action,  Adventure,  Fantasy]</td>\n",
              "      <td>162</td>\n",
              "      <td>7.8</td>\n",
              "      <td>83</td>\n",
              "      <td>https://www.imdb.com//title/tt0499549/</td>\n",
              "      <td>https://www.imdb.com//title/tt0499549/reviews?...</td>\n",
              "    </tr>\n",
              "    <tr>\n",
              "      <th>7</th>\n",
              "      <td>Morbius</td>\n",
              "      <td>2022-01-01</td>\n",
              "      <td>PG-13</td>\n",
              "      <td>[Action,  Adventure,  Horror]</td>\n",
              "      <td>104</td>\n",
              "      <td>5.2</td>\n",
              "      <td>35</td>\n",
              "      <td>https://www.imdb.com//title/tt5108870/</td>\n",
              "      <td>https://www.imdb.com//title/tt5108870/reviews?...</td>\n",
              "    </tr>\n",
              "    <tr>\n",
              "      <th>8</th>\n",
              "      <td>Interstellar</td>\n",
              "      <td>2014-01-01</td>\n",
              "      <td>PG-13</td>\n",
              "      <td>[Adventure,  Drama,  Sci-Fi]</td>\n",
              "      <td>169</td>\n",
              "      <td>8.6</td>\n",
              "      <td>74</td>\n",
              "      <td>https://www.imdb.com//title/tt0816692/</td>\n",
              "      <td>https://www.imdb.com//title/tt0816692/reviews?...</td>\n",
              "    </tr>\n",
              "    <tr>\n",
              "      <th>9</th>\n",
              "      <td>Oblivion</td>\n",
              "      <td>2013-01-01</td>\n",
              "      <td>PG-13</td>\n",
              "      <td>[Action,  Adventure,  Sci-Fi]</td>\n",
              "      <td>124</td>\n",
              "      <td>7.0</td>\n",
              "      <td>54</td>\n",
              "      <td>https://www.imdb.com//title/tt1483013/</td>\n",
              "      <td>https://www.imdb.com//title/tt1483013/reviews?...</td>\n",
              "    </tr>\n",
              "    <tr>\n",
              "      <th>10</th>\n",
              "      <td>Spider-Man: No Way Home</td>\n",
              "      <td>2021-01-01</td>\n",
              "      <td>PG-13</td>\n",
              "      <td>[Action,  Adventure,  Fantasy]</td>\n",
              "      <td>148</td>\n",
              "      <td>8.3</td>\n",
              "      <td>71</td>\n",
              "      <td>https://www.imdb.com//title/tt10872600/</td>\n",
              "      <td>https://www.imdb.com//title/tt10872600/reviews...</td>\n",
              "    </tr>\n",
              "    <tr>\n",
              "      <th>11</th>\n",
              "      <td>Crimes of the Future</td>\n",
              "      <td>2022-01-01</td>\n",
              "      <td>R</td>\n",
              "      <td>[Drama,  Horror,  Sci-Fi]</td>\n",
              "      <td>107</td>\n",
              "      <td>5.9</td>\n",
              "      <td>67</td>\n",
              "      <td>https://www.imdb.com//title/tt14549466/</td>\n",
              "      <td>https://www.imdb.com//title/tt14549466/reviews...</td>\n",
              "    </tr>\n",
              "    <tr>\n",
              "      <th>12</th>\n",
              "      <td>Rogue One</td>\n",
              "      <td>2016-01-01</td>\n",
              "      <td>PG-13</td>\n",
              "      <td>[Action,  Adventure,  Sci-Fi]</td>\n",
              "      <td>133</td>\n",
              "      <td>7.8</td>\n",
              "      <td>65</td>\n",
              "      <td>https://www.imdb.com//title/tt3748528/</td>\n",
              "      <td>https://www.imdb.com//title/tt3748528/reviews?...</td>\n",
              "    </tr>\n",
              "    <tr>\n",
              "      <th>13</th>\n",
              "      <td>Dune: Part One</td>\n",
              "      <td>2021-01-01</td>\n",
              "      <td>PG-13</td>\n",
              "      <td>[Action,  Adventure,  Drama]</td>\n",
              "      <td>155</td>\n",
              "      <td>8.0</td>\n",
              "      <td>74</td>\n",
              "      <td>https://www.imdb.com//title/tt1160419/</td>\n",
              "      <td>https://www.imdb.com//title/tt1160419/reviews?...</td>\n",
              "    </tr>\n",
              "    <tr>\n",
              "      <th>14</th>\n",
              "      <td>Jurassic World: Dominion</td>\n",
              "      <td>2022-01-01</td>\n",
              "      <td>PG-13</td>\n",
              "      <td>[Action,  Adventure,  Sci-Fi]</td>\n",
              "      <td>147</td>\n",
              "      <td>5.7</td>\n",
              "      <td>38</td>\n",
              "      <td>https://www.imdb.com//title/tt8041270/</td>\n",
              "      <td>https://www.imdb.com//title/tt8041270/reviews?...</td>\n",
              "    </tr>\n",
              "    <tr>\n",
              "      <th>15</th>\n",
              "      <td>V for Vendetta</td>\n",
              "      <td>2005-01-01</td>\n",
              "      <td>R</td>\n",
              "      <td>[Action,  Drama,  Sci-Fi]</td>\n",
              "      <td>132</td>\n",
              "      <td>8.2</td>\n",
              "      <td>62</td>\n",
              "      <td>https://www.imdb.com//title/tt0434409/</td>\n",
              "      <td>https://www.imdb.com//title/tt0434409/reviews?...</td>\n",
              "    </tr>\n",
              "    <tr>\n",
              "      <th>16</th>\n",
              "      <td>Avengers: Endgame</td>\n",
              "      <td>2019-01-01</td>\n",
              "      <td>PG-13</td>\n",
              "      <td>[Action,  Adventure,  Drama]</td>\n",
              "      <td>181</td>\n",
              "      <td>8.4</td>\n",
              "      <td>78</td>\n",
              "      <td>https://www.imdb.com//title/tt4154796/</td>\n",
              "      <td>https://www.imdb.com//title/tt4154796/reviews?...</td>\n",
              "    </tr>\n",
              "    <tr>\n",
              "      <th>17</th>\n",
              "      <td>Prey</td>\n",
              "      <td>2022-01-01</td>\n",
              "      <td>R</td>\n",
              "      <td>[Action,  Adventure,  Drama]</td>\n",
              "      <td>99</td>\n",
              "      <td>7.2</td>\n",
              "      <td>71</td>\n",
              "      <td>https://www.imdb.com//title/tt11866324/</td>\n",
              "      <td>https://www.imdb.com//title/tt11866324/reviews...</td>\n",
              "    </tr>\n",
              "    <tr>\n",
              "      <th>18</th>\n",
              "      <td>Back to the Future</td>\n",
              "      <td>1985-01-01</td>\n",
              "      <td></td>\n",
              "      <td>[Adventure,  Comedy,  Sci-Fi]</td>\n",
              "      <td>116</td>\n",
              "      <td>8.5</td>\n",
              "      <td>87</td>\n",
              "      <td>https://www.imdb.com//title/tt0088763/</td>\n",
              "      <td>https://www.imdb.com//title/tt0088763/reviews?...</td>\n",
              "    </tr>\n",
              "  </tbody>\n",
              "</table>\n",
              "</div>"
            ],
            "text/plain": [
              "                                movie       year rating  \\\n",
              "0      Black Panther: Wakanda Forever 2022-01-01  PG-13   \n",
              "1                          Black Adam 2022-01-01  PG-13   \n",
              "2                       Black Panther 2018-01-01  PG-13   \n",
              "3   Everything Everywhere All at Once 2022-01-01      R   \n",
              "4                                Nope 2022-01-01      R   \n",
              "5              Thor: Love and Thunder 2022-01-01  PG-13   \n",
              "6                              Avatar 2009-01-01  PG-13   \n",
              "7                             Morbius 2022-01-01  PG-13   \n",
              "8                        Interstellar 2014-01-01  PG-13   \n",
              "9                            Oblivion 2013-01-01  PG-13   \n",
              "10            Spider-Man: No Way Home 2021-01-01  PG-13   \n",
              "11               Crimes of the Future 2022-01-01      R   \n",
              "12                          Rogue One 2016-01-01  PG-13   \n",
              "13                     Dune: Part One 2021-01-01  PG-13   \n",
              "14           Jurassic World: Dominion 2022-01-01  PG-13   \n",
              "15                     V for Vendetta 2005-01-01      R   \n",
              "16                  Avengers: Endgame 2019-01-01  PG-13   \n",
              "17                               Prey 2022-01-01      R   \n",
              "18                 Back to the Future 1985-01-01          \n",
              "\n",
              "                             genre  runtime_min  imdb  metascore  \\\n",
              "0     [Action,  Adventure,  Drama]          161   7.3         67   \n",
              "1   [Action,  Adventure,  Fantasy]          125   6.9         41   \n",
              "2    [Action,  Adventure,  Sci-Fi]          134   7.3         88   \n",
              "3    [Action,  Adventure,  Comedy]          139   8.1         81   \n",
              "4      [Horror,  Mystery,  Sci-Fi]          130   6.9         77   \n",
              "5    [Action,  Adventure,  Comedy]          118   6.3         57   \n",
              "6   [Action,  Adventure,  Fantasy]          162   7.8         83   \n",
              "7    [Action,  Adventure,  Horror]          104   5.2         35   \n",
              "8     [Adventure,  Drama,  Sci-Fi]          169   8.6         74   \n",
              "9    [Action,  Adventure,  Sci-Fi]          124   7.0         54   \n",
              "10  [Action,  Adventure,  Fantasy]          148   8.3         71   \n",
              "11       [Drama,  Horror,  Sci-Fi]          107   5.9         67   \n",
              "12   [Action,  Adventure,  Sci-Fi]          133   7.8         65   \n",
              "13    [Action,  Adventure,  Drama]          155   8.0         74   \n",
              "14   [Action,  Adventure,  Sci-Fi]          147   5.7         38   \n",
              "15       [Action,  Drama,  Sci-Fi]          132   8.2         62   \n",
              "16    [Action,  Adventure,  Drama]          181   8.4         78   \n",
              "17    [Action,  Adventure,  Drama]           99   7.2         71   \n",
              "18   [Adventure,  Comedy,  Sci-Fi]          116   8.5         87   \n",
              "\n",
              "                                 movie_link  \\\n",
              "0    https://www.imdb.com//title/tt9114286/   \n",
              "1    https://www.imdb.com//title/tt6443346/   \n",
              "2    https://www.imdb.com//title/tt1825683/   \n",
              "3    https://www.imdb.com//title/tt6710474/   \n",
              "4   https://www.imdb.com//title/tt10954984/   \n",
              "5   https://www.imdb.com//title/tt10648342/   \n",
              "6    https://www.imdb.com//title/tt0499549/   \n",
              "7    https://www.imdb.com//title/tt5108870/   \n",
              "8    https://www.imdb.com//title/tt0816692/   \n",
              "9    https://www.imdb.com//title/tt1483013/   \n",
              "10  https://www.imdb.com//title/tt10872600/   \n",
              "11  https://www.imdb.com//title/tt14549466/   \n",
              "12   https://www.imdb.com//title/tt3748528/   \n",
              "13   https://www.imdb.com//title/tt1160419/   \n",
              "14   https://www.imdb.com//title/tt8041270/   \n",
              "15   https://www.imdb.com//title/tt0434409/   \n",
              "16   https://www.imdb.com//title/tt4154796/   \n",
              "17  https://www.imdb.com//title/tt11866324/   \n",
              "18   https://www.imdb.com//title/tt0088763/   \n",
              "\n",
              "                                         Review_links  \n",
              "0   https://www.imdb.com//title/tt9114286/reviews?...  \n",
              "1   https://www.imdb.com//title/tt6443346/reviews?...  \n",
              "2   https://www.imdb.com//title/tt1825683/reviews?...  \n",
              "3   https://www.imdb.com//title/tt6710474/reviews?...  \n",
              "4   https://www.imdb.com//title/tt10954984/reviews...  \n",
              "5   https://www.imdb.com//title/tt10648342/reviews...  \n",
              "6   https://www.imdb.com//title/tt0499549/reviews?...  \n",
              "7   https://www.imdb.com//title/tt5108870/reviews?...  \n",
              "8   https://www.imdb.com//title/tt0816692/reviews?...  \n",
              "9   https://www.imdb.com//title/tt1483013/reviews?...  \n",
              "10  https://www.imdb.com//title/tt10872600/reviews...  \n",
              "11  https://www.imdb.com//title/tt14549466/reviews...  \n",
              "12  https://www.imdb.com//title/tt3748528/reviews?...  \n",
              "13  https://www.imdb.com//title/tt1160419/reviews?...  \n",
              "14  https://www.imdb.com//title/tt8041270/reviews?...  \n",
              "15  https://www.imdb.com//title/tt0434409/reviews?...  \n",
              "16  https://www.imdb.com//title/tt4154796/reviews?...  \n",
              "17  https://www.imdb.com//title/tt11866324/reviews...  \n",
              "18  https://www.imdb.com//title/tt0088763/reviews?...  "
            ]
          },
          "execution_count": 50,
          "metadata": {},
          "output_type": "execute_result"
        }
      ],
      "source": [
        "sci_fi_df"
      ]
    },
    {
      "cell_type": "code",
      "execution_count": null,
      "id": "b1bd872e-b255-4ebd-ba31-260d2c5f91d5",
      "metadata": {
        "id": "b1bd872e-b255-4ebd-ba31-260d2c5f91d5"
      },
      "outputs": [],
      "source": [
        "sci_fi_df.to_csv('IMDbRating2.csv', index=False, encoding='utf-8')"
      ]
    },
    {
      "cell_type": "code",
      "execution_count": null,
      "id": "2a525bae-d94f-4c25-b3b8-93f5203aaf4d",
      "metadata": {
        "id": "2a525bae-d94f-4c25-b3b8-93f5203aaf4d"
      },
      "outputs": [],
      "source": [
        "film_to_analyse=sci_fi_df.iloc[0,8]"
      ]
    },
    {
      "cell_type": "code",
      "execution_count": null,
      "id": "d7481ddb-49a3-4faa-bc2b-1fc2be453319",
      "metadata": {
        "id": "d7481ddb-49a3-4faa-bc2b-1fc2be453319",
        "outputId": "9342ba76-1d19-4947-9c2c-e574d9f96534"
      },
      "outputs": [
        {
          "data": {
            "text/plain": [
              "'https://www.imdb.com//title/tt9114286/reviews?ref_=tt_urv'"
            ]
          },
          "execution_count": 53,
          "metadata": {},
          "output_type": "execute_result"
        }
      ],
      "source": [
        "film_to_analyse"
      ]
    },
    {
      "cell_type": "code",
      "execution_count": null,
      "id": "9c0d8422-d86a-413d-920f-00a407f84d20",
      "metadata": {
        "id": "9c0d8422-d86a-413d-920f-00a407f84d20"
      },
      "outputs": [],
      "source": [
        "df=get_reviews(film_to_analyse)"
      ]
    },
    {
      "cell_type": "code",
      "execution_count": null,
      "id": "d94ed942-c9ac-419d-8db0-5d77f809a1b5",
      "metadata": {
        "id": "d94ed942-c9ac-419d-8db0-5d77f809a1b5",
        "outputId": "d89dc421-2cea-4332-d532-cfcfa399dd7e"
      },
      "outputs": [
        {
          "data": {
            "text/html": [
              "<div>\n",
              "<style scoped>\n",
              "    .dataframe tbody tr th:only-of-type {\n",
              "        vertical-align: middle;\n",
              "    }\n",
              "\n",
              "    .dataframe tbody tr th {\n",
              "        vertical-align: top;\n",
              "    }\n",
              "\n",
              "    .dataframe thead th {\n",
              "        text-align: right;\n",
              "    }\n",
              "</style>\n",
              "<table border=\"1\" class=\"dataframe\">\n",
              "  <thead>\n",
              "    <tr style=\"text-align: right;\">\n",
              "      <th></th>\n",
              "      <th>review</th>\n",
              "    </tr>\n",
              "  </thead>\n",
              "  <tbody>\n",
              "    <tr>\n",
              "      <th>0</th>\n",
              "      <td>I am conflicted with this film and with Marvel...</td>\n",
              "    </tr>\n",
              "    <tr>\n",
              "      <th>1</th>\n",
              "      <td>Phase 4's MCU comes to a close with Black Pant...</td>\n",
              "    </tr>\n",
              "    <tr>\n",
              "      <th>2</th>\n",
              "      <td>First of all, RIP to Chadwick Boseman. They re...</td>\n",
              "    </tr>\n",
              "    <tr>\n",
              "      <th>3</th>\n",
              "      <td>Black Panther was a very welcome addition to t...</td>\n",
              "    </tr>\n",
              "    <tr>\n",
              "      <th>4</th>\n",
              "      <td>\"Black Panther: Wakanda Forever\" is the sequel...</td>\n",
              "    </tr>\n",
              "    <tr>\n",
              "      <th>5</th>\n",
              "      <td>At this point, Marvel is getting too saturated...</td>\n",
              "    </tr>\n",
              "    <tr>\n",
              "      <th>6</th>\n",
              "      <td>This film and its prequel both had exceptional...</td>\n",
              "    </tr>\n",
              "    <tr>\n",
              "      <th>7</th>\n",
              "      <td>I want to start by saying I haven't been the b...</td>\n",
              "    </tr>\n",
              "    <tr>\n",
              "      <th>8</th>\n",
              "      <td>Obviously this movie is a huge thing. Chadwick...</td>\n",
              "    </tr>\n",
              "    <tr>\n",
              "      <th>9</th>\n",
              "      <td>\"Wakanda Forever\" is MCU's 30-th movie and is ...</td>\n",
              "    </tr>\n",
              "    <tr>\n",
              "      <th>10</th>\n",
              "      <td>A cultural phenomenon that was the rare type o...</td>\n",
              "    </tr>\n",
              "    <tr>\n",
              "      <th>11</th>\n",
              "      <td>At the risk of overstatement, it's hard not to...</td>\n",
              "    </tr>\n",
              "    <tr>\n",
              "      <th>12</th>\n",
              "      <td>First off, it's long. There's minimal action. ...</td>\n",
              "    </tr>\n",
              "    <tr>\n",
              "      <th>13</th>\n",
              "      <td>Enough has been said by other reviewers about ...</td>\n",
              "    </tr>\n",
              "    <tr>\n",
              "      <th>14</th>\n",
              "      <td>Saw this the other night at the movies. The ci...</td>\n",
              "    </tr>\n",
              "    <tr>\n",
              "      <th>15</th>\n",
              "      <td>The beautifully crafted film, Black Panther: W...</td>\n",
              "    </tr>\n",
              "    <tr>\n",
              "      <th>16</th>\n",
              "      <td>The biggest compliment I can give this film is...</td>\n",
              "    </tr>\n",
              "    <tr>\n",
              "      <th>17</th>\n",
              "      <td>There Were So Many Missed Opportunities.Main P...</td>\n",
              "    </tr>\n",
              "    <tr>\n",
              "      <th>18</th>\n",
              "      <td>Immediately prominent in this sequel are the s...</td>\n",
              "    </tr>\n",
              "    <tr>\n",
              "      <th>19</th>\n",
              "      <td>The first black panther was mostly focused on ...</td>\n",
              "    </tr>\n",
              "    <tr>\n",
              "      <th>20</th>\n",
              "      <td>This movie is emotional in terms of its storyl...</td>\n",
              "    </tr>\n",
              "    <tr>\n",
              "      <th>21</th>\n",
              "      <td>I just got out of Black PantherI found it pret...</td>\n",
              "    </tr>\n",
              "    <tr>\n",
              "      <th>22</th>\n",
              "      <td>The center of \"Black Panther: Wakanda Forever\"...</td>\n",
              "    </tr>\n",
              "    <tr>\n",
              "      <th>23</th>\n",
              "      <td>Wakanda Forever tells the story of how Wakanda...</td>\n",
              "    </tr>\n",
              "    <tr>\n",
              "      <th>24</th>\n",
              "      <td>We have reached a point at which people will w...</td>\n",
              "    </tr>\n",
              "  </tbody>\n",
              "</table>\n",
              "</div>"
            ],
            "text/plain": [
              "                                               review\n",
              "0   I am conflicted with this film and with Marvel...\n",
              "1   Phase 4's MCU comes to a close with Black Pant...\n",
              "2   First of all, RIP to Chadwick Boseman. They re...\n",
              "3   Black Panther was a very welcome addition to t...\n",
              "4   \"Black Panther: Wakanda Forever\" is the sequel...\n",
              "5   At this point, Marvel is getting too saturated...\n",
              "6   This film and its prequel both had exceptional...\n",
              "7   I want to start by saying I haven't been the b...\n",
              "8   Obviously this movie is a huge thing. Chadwick...\n",
              "9   \"Wakanda Forever\" is MCU's 30-th movie and is ...\n",
              "10  A cultural phenomenon that was the rare type o...\n",
              "11  At the risk of overstatement, it's hard not to...\n",
              "12  First off, it's long. There's minimal action. ...\n",
              "13  Enough has been said by other reviewers about ...\n",
              "14  Saw this the other night at the movies. The ci...\n",
              "15  The beautifully crafted film, Black Panther: W...\n",
              "16  The biggest compliment I can give this film is...\n",
              "17  There Were So Many Missed Opportunities.Main P...\n",
              "18  Immediately prominent in this sequel are the s...\n",
              "19  The first black panther was mostly focused on ...\n",
              "20  This movie is emotional in terms of its storyl...\n",
              "21  I just got out of Black PantherI found it pret...\n",
              "22  The center of \"Black Panther: Wakanda Forever\"...\n",
              "23  Wakanda Forever tells the story of how Wakanda...\n",
              "24  We have reached a point at which people will w..."
            ]
          },
          "execution_count": 55,
          "metadata": {},
          "output_type": "execute_result"
        }
      ],
      "source": [
        "df"
      ]
    },
    {
      "cell_type": "markdown",
      "id": "aaa9c10e-d5ca-4b93-b86b-270da93d368b",
      "metadata": {
        "id": "aaa9c10e-d5ca-4b93-b86b-270da93d368b"
      },
      "source": [
        "## Analyse des sentiments"
      ]
    },
    {
      "cell_type": "code",
      "execution_count": null,
      "id": "d6aff5d2-8f96-460a-aaba-717c0481eadf",
      "metadata": {
        "id": "d6aff5d2-8f96-460a-aaba-717c0481eadf"
      },
      "outputs": [],
      "source": [
        "def analyze_sentiment(tweet):\n",
        " analysis=TextBlob(tweet)\n",
        " if analysis.sentiment.polarity>0:\n",
        "    return 'positive'\n",
        " elif analysis.sentiment.polarity==0:\n",
        "    return 'neutral'\n",
        " else:\n",
        "    return 'negative'"
      ]
    },
    {
      "cell_type": "code",
      "execution_count": null,
      "id": "18a8eff6-28b3-4c1e-9925-fcd1e1b2c542",
      "metadata": {
        "id": "18a8eff6-28b3-4c1e-9925-fcd1e1b2c542",
        "outputId": "3c0758c7-5920-42a6-c781-0bf08198b181"
      },
      "outputs": [
        {
          "data": {
            "text/plain": [
              "positive    24\n",
              "negative     1\n",
              "Name: sentiment, dtype: int64"
            ]
          },
          "execution_count": 57,
          "metadata": {},
          "output_type": "execute_result"
        }
      ],
      "source": [
        "df=pd.DataFrame(df)\n",
        "df.columns=['review']\n",
        "df['sentiment']=[str(analyze_sentiment(x)) for x in df.review]\n",
        "df.sentiment.value_counts()"
      ]
    },
    {
      "cell_type": "code",
      "execution_count": null,
      "id": "2cf4e4c8-4f27-485b-afab-c4825ca9aedd",
      "metadata": {
        "id": "2cf4e4c8-4f27-485b-afab-c4825ca9aedd",
        "outputId": "be6c9a4d-c9c2-4f81-f56f-b830600256d2"
      },
      "outputs": [
        {
          "data": {
            "text/html": [
              "<div>\n",
              "<style scoped>\n",
              "    .dataframe tbody tr th:only-of-type {\n",
              "        vertical-align: middle;\n",
              "    }\n",
              "\n",
              "    .dataframe tbody tr th {\n",
              "        vertical-align: top;\n",
              "    }\n",
              "\n",
              "    .dataframe thead th {\n",
              "        text-align: right;\n",
              "    }\n",
              "</style>\n",
              "<table border=\"1\" class=\"dataframe\">\n",
              "  <thead>\n",
              "    <tr style=\"text-align: right;\">\n",
              "      <th></th>\n",
              "      <th>review</th>\n",
              "      <th>sentiment</th>\n",
              "    </tr>\n",
              "  </thead>\n",
              "  <tbody>\n",
              "    <tr>\n",
              "      <th>0</th>\n",
              "      <td>I am conflicted with this film and with Marvel...</td>\n",
              "      <td>positive</td>\n",
              "    </tr>\n",
              "    <tr>\n",
              "      <th>1</th>\n",
              "      <td>Phase 4's MCU comes to a close with Black Pant...</td>\n",
              "      <td>positive</td>\n",
              "    </tr>\n",
              "    <tr>\n",
              "      <th>2</th>\n",
              "      <td>First of all, RIP to Chadwick Boseman. They re...</td>\n",
              "      <td>positive</td>\n",
              "    </tr>\n",
              "    <tr>\n",
              "      <th>3</th>\n",
              "      <td>Black Panther was a very welcome addition to t...</td>\n",
              "      <td>positive</td>\n",
              "    </tr>\n",
              "    <tr>\n",
              "      <th>4</th>\n",
              "      <td>\"Black Panther: Wakanda Forever\" is the sequel...</td>\n",
              "      <td>positive</td>\n",
              "    </tr>\n",
              "    <tr>\n",
              "      <th>5</th>\n",
              "      <td>At this point, Marvel is getting too saturated...</td>\n",
              "      <td>positive</td>\n",
              "    </tr>\n",
              "    <tr>\n",
              "      <th>6</th>\n",
              "      <td>This film and its prequel both had exceptional...</td>\n",
              "      <td>positive</td>\n",
              "    </tr>\n",
              "    <tr>\n",
              "      <th>7</th>\n",
              "      <td>I want to start by saying I haven't been the b...</td>\n",
              "      <td>positive</td>\n",
              "    </tr>\n",
              "    <tr>\n",
              "      <th>8</th>\n",
              "      <td>Obviously this movie is a huge thing. Chadwick...</td>\n",
              "      <td>positive</td>\n",
              "    </tr>\n",
              "    <tr>\n",
              "      <th>9</th>\n",
              "      <td>\"Wakanda Forever\" is MCU's 30-th movie and is ...</td>\n",
              "      <td>positive</td>\n",
              "    </tr>\n",
              "    <tr>\n",
              "      <th>10</th>\n",
              "      <td>A cultural phenomenon that was the rare type o...</td>\n",
              "      <td>positive</td>\n",
              "    </tr>\n",
              "    <tr>\n",
              "      <th>11</th>\n",
              "      <td>At the risk of overstatement, it's hard not to...</td>\n",
              "      <td>positive</td>\n",
              "    </tr>\n",
              "    <tr>\n",
              "      <th>12</th>\n",
              "      <td>First off, it's long. There's minimal action. ...</td>\n",
              "      <td>positive</td>\n",
              "    </tr>\n",
              "    <tr>\n",
              "      <th>13</th>\n",
              "      <td>Enough has been said by other reviewers about ...</td>\n",
              "      <td>positive</td>\n",
              "    </tr>\n",
              "    <tr>\n",
              "      <th>14</th>\n",
              "      <td>Saw this the other night at the movies. The ci...</td>\n",
              "      <td>positive</td>\n",
              "    </tr>\n",
              "    <tr>\n",
              "      <th>15</th>\n",
              "      <td>The beautifully crafted film, Black Panther: W...</td>\n",
              "      <td>positive</td>\n",
              "    </tr>\n",
              "    <tr>\n",
              "      <th>16</th>\n",
              "      <td>The biggest compliment I can give this film is...</td>\n",
              "      <td>positive</td>\n",
              "    </tr>\n",
              "    <tr>\n",
              "      <th>17</th>\n",
              "      <td>There Were So Many Missed Opportunities.Main P...</td>\n",
              "      <td>positive</td>\n",
              "    </tr>\n",
              "    <tr>\n",
              "      <th>18</th>\n",
              "      <td>Immediately prominent in this sequel are the s...</td>\n",
              "      <td>positive</td>\n",
              "    </tr>\n",
              "    <tr>\n",
              "      <th>19</th>\n",
              "      <td>The first black panther was mostly focused on ...</td>\n",
              "      <td>positive</td>\n",
              "    </tr>\n",
              "    <tr>\n",
              "      <th>20</th>\n",
              "      <td>This movie is emotional in terms of its storyl...</td>\n",
              "      <td>positive</td>\n",
              "    </tr>\n",
              "    <tr>\n",
              "      <th>21</th>\n",
              "      <td>I just got out of Black PantherI found it pret...</td>\n",
              "      <td>positive</td>\n",
              "    </tr>\n",
              "    <tr>\n",
              "      <th>22</th>\n",
              "      <td>The center of \"Black Panther: Wakanda Forever\"...</td>\n",
              "      <td>negative</td>\n",
              "    </tr>\n",
              "    <tr>\n",
              "      <th>23</th>\n",
              "      <td>Wakanda Forever tells the story of how Wakanda...</td>\n",
              "      <td>positive</td>\n",
              "    </tr>\n",
              "    <tr>\n",
              "      <th>24</th>\n",
              "      <td>We have reached a point at which people will w...</td>\n",
              "      <td>positive</td>\n",
              "    </tr>\n",
              "  </tbody>\n",
              "</table>\n",
              "</div>"
            ],
            "text/plain": [
              "                                               review sentiment\n",
              "0   I am conflicted with this film and with Marvel...  positive\n",
              "1   Phase 4's MCU comes to a close with Black Pant...  positive\n",
              "2   First of all, RIP to Chadwick Boseman. They re...  positive\n",
              "3   Black Panther was a very welcome addition to t...  positive\n",
              "4   \"Black Panther: Wakanda Forever\" is the sequel...  positive\n",
              "5   At this point, Marvel is getting too saturated...  positive\n",
              "6   This film and its prequel both had exceptional...  positive\n",
              "7   I want to start by saying I haven't been the b...  positive\n",
              "8   Obviously this movie is a huge thing. Chadwick...  positive\n",
              "9   \"Wakanda Forever\" is MCU's 30-th movie and is ...  positive\n",
              "10  A cultural phenomenon that was the rare type o...  positive\n",
              "11  At the risk of overstatement, it's hard not to...  positive\n",
              "12  First off, it's long. There's minimal action. ...  positive\n",
              "13  Enough has been said by other reviewers about ...  positive\n",
              "14  Saw this the other night at the movies. The ci...  positive\n",
              "15  The beautifully crafted film, Black Panther: W...  positive\n",
              "16  The biggest compliment I can give this film is...  positive\n",
              "17  There Were So Many Missed Opportunities.Main P...  positive\n",
              "18  Immediately prominent in this sequel are the s...  positive\n",
              "19  The first black panther was mostly focused on ...  positive\n",
              "20  This movie is emotional in terms of its storyl...  positive\n",
              "21  I just got out of Black PantherI found it pret...  positive\n",
              "22  The center of \"Black Panther: Wakanda Forever\"...  negative\n",
              "23  Wakanda Forever tells the story of how Wakanda...  positive\n",
              "24  We have reached a point at which people will w...  positive"
            ]
          },
          "execution_count": 58,
          "metadata": {},
          "output_type": "execute_result"
        }
      ],
      "source": [
        "df"
      ]
    },
    {
      "cell_type": "markdown",
      "id": "eaed2bd8-e52d-4014-896a-03ab55f9bc3c",
      "metadata": {
        "id": "eaed2bd8-e52d-4014-896a-03ab55f9bc3c"
      },
      "source": [
        "## Some Visualisation"
      ]
    },
    {
      "cell_type": "code",
      "execution_count": null,
      "id": "e54a6a31-8f8e-4735-a53a-d7f5966cc485",
      "metadata": {
        "id": "e54a6a31-8f8e-4735-a53a-d7f5966cc485",
        "outputId": "310d5075-8226-4356-9724-128918c8ee68"
      },
      "outputs": [
        {
          "data": {
            "image/png": "[encoded data removed]",
            "text/plain": [
              "<Figure size 640x480 with 1 Axes>"
            ]
          },
          "metadata": {},
          "output_type": "display_data"
        }
      ],
      "source": [
        "y = df.sentiment.value_counts()\n",
        "mylabels = [\"Positive\",\"Negative\"]\n",
        "myexplode=[0.2,0]\n",
        "plt.pie(y, labels = mylabels, explode = myexplode,shadow=True)\n",
        "plt.legend()\n",
        "plt.show()"
      ]
    },
    {
      "cell_type": "code",
      "execution_count": null,
      "id": "e64227da-6b07-4b5d-995b-e185c11be076",
      "metadata": {
        "id": "e64227da-6b07-4b5d-995b-e185c11be076"
      },
      "outputs": [],
      "source": [
        "def show_cloud(input) :\n",
        "    # Generate the word cloud from the input string\n",
        "    cloud_test = WordCloud(background_color=\"white\").generate(test)\n",
        "    # Create a figure of the generated cloud\n",
        "    plt.imshow(cloud_test, interpolation='bilinear')\n",
        "    plt.axis('off')\n",
        "    # Display the figure\n",
        "    plt.show()"
      ]
    },
    {
      "cell_type": "code",
      "execution_count": null,
      "id": "8ea2c908-fee8-4f56-b36d-5b1dc9de7fcb",
      "metadata": {
        "id": "8ea2c908-fee8-4f56-b36d-5b1dc9de7fcb"
      },
      "outputs": [],
      "source": [
        "test=df.iloc[0,0]"
      ]
    },
    {
      "cell_type": "code",
      "execution_count": null,
      "id": "ff170ea3-916a-46a8-a09d-bb7086f0ee6a",
      "metadata": {
        "id": "ff170ea3-916a-46a8-a09d-bb7086f0ee6a",
        "outputId": "ab650318-5777-4522-98f7-662b1d688030"
      },
      "outputs": [
        {
          "data": {
            "image/png": "[encoded data removed]",
            "text/plain": [
              "<Figure size 640x480 with 1 Axes>"
            ]
          },
          "metadata": {},
          "output_type": "display_data"
        }
      ],
      "source": [
        "show_cloud(test)"
      ]
    }
  ],
  "metadata": {
    "kernelspec": {
      "display_name": "Python 3 (ipykernel)",
      "language": "python",
      "name": "python3"
    },
    "language_info": {
      "codemirror_mode": {
        "name": "ipython",
        "version": 3
      },
      "file_extension": ".py",
      "mimetype": "text/x-python",
      "name": "python",
      "nbconvert_exporter": "python",
      "pygments_lexer": "ipython3",
      "version": "3.9.13"
    },
    "colab": {
      "provenance": []
    }
  },
  "nbformat": 4,
  "nbformat_minor": 5
}